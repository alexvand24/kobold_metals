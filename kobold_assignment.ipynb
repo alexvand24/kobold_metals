{
 "cells": [
  {
   "cell_type": "markdown",
   "id": "7e55eea6",
   "metadata": {},
   "source": [
    "# ADS Take Home Assignment"
   ]
  },
  {
   "cell_type": "markdown",
   "id": "45a4e3fc",
   "metadata": {},
   "source": [
    "## Alex Vand - February 2024"
   ]
  },
  {
   "cell_type": "markdown",
   "id": "270672ad",
   "metadata": {},
   "source": [
    "### Purpose of Assignment"
   ]
  },
  {
   "cell_type": "markdown",
   "id": "a821da3e",
   "metadata": {},
   "source": [
    "The goal of this assignment is to QA/QC, analyze, and draw insights from geologic data."
   ]
  },
  {
   "cell_type": "markdown",
   "id": "54f49ad5",
   "metadata": {},
   "source": [
    "First, import the necessary packages to complete the assignment."
   ]
  },
  {
   "cell_type": "code",
   "execution_count": 4,
   "id": "58fdbc08",
   "metadata": {},
   "outputs": [],
   "source": [
    "import pandas as pd # package for data analysis\n",
    "import numpy as np # package used for \"replace\" -- is this used otherwise?"
   ]
  },
  {
   "cell_type": "code",
   "execution_count": 51,
   "id": "09319798",
   "metadata": {},
   "outputs": [],
   "source": [
    "from matplotlib import pyplot as plt # package used for data visualization -- is this package used/ needed?"
   ]
  },
  {
   "cell_type": "markdown",
   "id": "1a828167",
   "metadata": {},
   "source": [
    "Next read in the raw dataframe and also save a copy of the raw file."
   ]
  },
  {
   "cell_type": "code",
   "execution_count": 652,
   "id": "45d13ef8",
   "metadata": {},
   "outputs": [],
   "source": [
    "df = pd.read_csv(\"kobold_data\\ADS_Exercise_data\\MN_geochem_ads.csv\") # read in the dataframe\n",
    "raw_df = pd.read_csv(\"kobold_data\\ADS_Exercise_data\\MN_geochem_ads.csv\") # keep a raw copy of the dataframe"
   ]
  },
  {
   "cell_type": "markdown",
   "id": "7aa0abb1",
   "metadata": {},
   "source": [
    "The following code chunk displays exploratory information about the dataframe."
   ]
  },
  {
   "cell_type": "code",
   "execution_count": 298,
   "id": "b634579c",
   "metadata": {
    "scrolled": true
   },
   "outputs": [
    {
     "name": "stdout",
     "output_type": "stream",
     "text": [
      "<class 'pandas.core.frame.DataFrame'>\n",
      "RangeIndex: 305 entries, 0 to 304\n",
      "Data columns (total 11 columns):\n",
      " #   Column          Non-Null Count  Dtype  \n",
      "---  ------          --------------  -----  \n",
      " 0   sample          305 non-null    int64  \n",
      " 1   medium          305 non-null    object \n",
      " 2   easting_wgs84   305 non-null    float64\n",
      " 3   northing_wgs84  304 non-null    float64\n",
      " 4   date_assay      305 non-null    object \n",
      " 5   company         305 non-null    object \n",
      " 6   structure       110 non-null    object \n",
      " 7   lithology       289 non-null    object \n",
      " 8   Co_ppm          302 non-null    float64\n",
      " 9   Cu_ppm          242 non-null    float64\n",
      " 10  Ni_ppm          305 non-null    object \n",
      "dtypes: float64(4), int64(1), object(6)\n",
      "memory usage: 127.1 KB\n"
     ]
    }
   ],
   "source": [
    "df.info(memory_usage='deep') # view basic exploratory information about the dataframe including column names and data types"
   ]
  },
  {
   "cell_type": "markdown",
   "id": "7aadd7b0",
   "metadata": {},
   "source": [
    "There are 11 columns (variables of interest) and there are 305 rows (observations/potential mining locations) of data. Additionally, there are both numerical and string data types. As we can see above, there are several null or NA variables that must be addressed/ accounted for. The following code chunk will display the current total number of null values in the raw dataset."
   ]
  },
  {
   "cell_type": "code",
   "execution_count": 693,
   "id": "77b33a52",
   "metadata": {
    "scrolled": true
   },
   "outputs": [
    {
     "name": "stdout",
     "output_type": "stream",
     "text": [
      "sample             0\n",
      "medium             0\n",
      "easting_wgs84      0\n",
      "northing_wgs84     1\n",
      "date_assay         0\n",
      "company            0\n",
      "structure          0\n",
      "lithology          0\n",
      "Co_ppm             3\n",
      "Cu_ppm            65\n",
      "Ni_ppm             6\n",
      "dtype: int64\n"
     ]
    }
   ],
   "source": [
    "print(df.isna().sum()) # counts the number of NA (null) values in each column"
   ]
  },
  {
   "cell_type": "markdown",
   "id": "fa59977d",
   "metadata": {},
   "source": [
    "# Data Cleaning"
   ]
  },
  {
   "cell_type": "markdown",
   "id": "2cc08e95",
   "metadata": {},
   "source": [
    "To clean this dataset, first we will remove all duplicates and address any NA values. Additionally, we will incorporate user testing to show appropriate ranges or variable types for data values."
   ]
  },
  {
   "cell_type": "markdown",
   "id": "401091ea",
   "metadata": {},
   "source": [
    "## Duplicates"
   ]
  },
  {
   "cell_type": "markdown",
   "id": "5220a9e6",
   "metadata": {},
   "source": [
    "The \"sample\" ID column is the unique identifier/ key to identify each data point/ observation/ potential mining location. Therefore, we can use this column to search for any duplicate entries in the data set and delete those rows."
   ]
  },
  {
   "cell_type": "markdown",
   "id": "15a6c8c2",
   "metadata": {},
   "source": [
    "The code belows displays all the duplicate values."
   ]
  },
  {
   "cell_type": "code",
   "execution_count": 406,
   "id": "f3fe3bd6",
   "metadata": {},
   "outputs": [
    {
     "data": {
      "text/html": [
       "<div>\n",
       "<style scoped>\n",
       "    .dataframe tbody tr th:only-of-type {\n",
       "        vertical-align: middle;\n",
       "    }\n",
       "\n",
       "    .dataframe tbody tr th {\n",
       "        vertical-align: top;\n",
       "    }\n",
       "\n",
       "    .dataframe thead th {\n",
       "        text-align: right;\n",
       "    }\n",
       "</style>\n",
       "<table border=\"1\" class=\"dataframe\">\n",
       "  <thead>\n",
       "    <tr style=\"text-align: right;\">\n",
       "      <th></th>\n",
       "      <th>sample</th>\n",
       "      <th>medium</th>\n",
       "      <th>easting_wgs84</th>\n",
       "      <th>northing_wgs84</th>\n",
       "      <th>date_assay</th>\n",
       "      <th>company</th>\n",
       "      <th>structure</th>\n",
       "      <th>lithology</th>\n",
       "      <th>Co_ppm</th>\n",
       "      <th>Cu_ppm</th>\n",
       "      <th>Ni_ppm</th>\n",
       "    </tr>\n",
       "  </thead>\n",
       "  <tbody>\n",
       "    <tr>\n",
       "      <th>223</th>\n",
       "      <td>9497291</td>\n",
       "      <td>rock_outcrop</td>\n",
       "      <td>-90.33333</td>\n",
       "      <td>48.00</td>\n",
       "      <td>3/20/89</td>\n",
       "      <td>united_states_geological_survey</td>\n",
       "      <td>lava flow</td>\n",
       "      <td>basaltt</td>\n",
       "      <td>42.0</td>\n",
       "      <td>100.0</td>\n",
       "      <td>41</td>\n",
       "    </tr>\n",
       "    <tr>\n",
       "      <th>233</th>\n",
       "      <td>9497345</td>\n",
       "      <td>rock_outcrop</td>\n",
       "      <td>-90.41667</td>\n",
       "      <td>47.75</td>\n",
       "      <td>4/5/89</td>\n",
       "      <td>united_states_geological_survey</td>\n",
       "      <td>lava flow</td>\n",
       "      <td>basalt.</td>\n",
       "      <td>59.0</td>\n",
       "      <td>83.0</td>\n",
       "      <td>172</td>\n",
       "    </tr>\n",
       "    <tr>\n",
       "      <th>300</th>\n",
       "      <td>9497345</td>\n",
       "      <td>rock_outcrop</td>\n",
       "      <td>-90.41667</td>\n",
       "      <td>47.75</td>\n",
       "      <td>4/5/89</td>\n",
       "      <td>united_states_geological_survey</td>\n",
       "      <td>lava flow</td>\n",
       "      <td>basalt</td>\n",
       "      <td>36.0</td>\n",
       "      <td>110.0</td>\n",
       "      <td>41</td>\n",
       "    </tr>\n",
       "    <tr>\n",
       "      <th>301</th>\n",
       "      <td>9497345</td>\n",
       "      <td>rock_outcrop</td>\n",
       "      <td>-90.41667</td>\n",
       "      <td>47.75</td>\n",
       "      <td>4/5/89</td>\n",
       "      <td>united_states_geological_survey</td>\n",
       "      <td>lava flow</td>\n",
       "      <td>basalt</td>\n",
       "      <td>52.0</td>\n",
       "      <td>58.0</td>\n",
       "      <td>242</td>\n",
       "    </tr>\n",
       "    <tr>\n",
       "      <th>302</th>\n",
       "      <td>9497291</td>\n",
       "      <td>rock_outcrop</td>\n",
       "      <td>-90.33333</td>\n",
       "      <td>48.00</td>\n",
       "      <td>3/20/89</td>\n",
       "      <td>united_states_geological_survey</td>\n",
       "      <td>lava flow</td>\n",
       "      <td>Basalt</td>\n",
       "      <td>42.0</td>\n",
       "      <td>100.0</td>\n",
       "      <td>41</td>\n",
       "    </tr>\n",
       "    <tr>\n",
       "      <th>303</th>\n",
       "      <td>9497291</td>\n",
       "      <td>rock_outcrop</td>\n",
       "      <td>-90.33333</td>\n",
       "      <td>48.00</td>\n",
       "      <td>3/20/89</td>\n",
       "      <td>united_states_geological_survey</td>\n",
       "      <td>lava flow</td>\n",
       "      <td>basalt</td>\n",
       "      <td>42.0</td>\n",
       "      <td>100.0</td>\n",
       "      <td>41</td>\n",
       "    </tr>\n",
       "    <tr>\n",
       "      <th>304</th>\n",
       "      <td>9497291</td>\n",
       "      <td>rock_outcrop</td>\n",
       "      <td>-90.33333</td>\n",
       "      <td>48.00</td>\n",
       "      <td>3/20/89</td>\n",
       "      <td>united_states_geological_survey</td>\n",
       "      <td>lava flow</td>\n",
       "      <td>basalt</td>\n",
       "      <td>42.0</td>\n",
       "      <td>100.0</td>\n",
       "      <td>41</td>\n",
       "    </tr>\n",
       "  </tbody>\n",
       "</table>\n",
       "</div>"
      ],
      "text/plain": [
       "      sample        medium  easting_wgs84  northing_wgs84 date_assay  \\\n",
       "223  9497291  rock_outcrop      -90.33333           48.00    3/20/89   \n",
       "233  9497345  rock_outcrop      -90.41667           47.75     4/5/89   \n",
       "300  9497345  rock_outcrop      -90.41667           47.75     4/5/89   \n",
       "301  9497345  rock_outcrop      -90.41667           47.75     4/5/89   \n",
       "302  9497291  rock_outcrop      -90.33333           48.00    3/20/89   \n",
       "303  9497291  rock_outcrop      -90.33333           48.00    3/20/89   \n",
       "304  9497291  rock_outcrop      -90.33333           48.00    3/20/89   \n",
       "\n",
       "                             company  structure lithology  Co_ppm  Cu_ppm  \\\n",
       "223  united_states_geological_survey  lava flow   basaltt    42.0   100.0   \n",
       "233  united_states_geological_survey  lava flow   basalt.    59.0    83.0   \n",
       "300  united_states_geological_survey  lava flow    basalt    36.0   110.0   \n",
       "301  united_states_geological_survey  lava flow    basalt    52.0    58.0   \n",
       "302  united_states_geological_survey  lava flow    Basalt    42.0   100.0   \n",
       "303  united_states_geological_survey  lava flow    basalt    42.0   100.0   \n",
       "304  united_states_geological_survey  lava flow    basalt    42.0   100.0   \n",
       "\n",
       "    Ni_ppm  \n",
       "223     41  \n",
       "233    172  \n",
       "300     41  \n",
       "301    242  \n",
       "302     41  \n",
       "303     41  \n",
       "304     41  "
      ]
     },
     "execution_count": 406,
     "metadata": {},
     "output_type": "execute_result"
    }
   ],
   "source": [
    "df[df.duplicated(['sample'], keep = False)] # \"keep = false\" displays all duplicates instead of ignoring the first or last"
   ]
  },
  {
   "cell_type": "markdown",
   "id": "1e784144",
   "metadata": {},
   "source": [
    "Sample 9497291 has all the same values, for all variables, for all 4 duplicate entries [indices 223, 302, 303, 304]. Therefore, we can delete all repeated duplicates and just keep the first entry."
   ]
  },
  {
   "cell_type": "markdown",
   "id": "c87ae656",
   "metadata": {},
   "source": [
    "Sample 9497345, however, has different values for the metal concentrations for all 3 duplicate entries [indices 233, 300, 301]. This implies we cannot keep any of the 3 data points in our dataframe as we do not know which one is correct. If possible, we could ask a field team or refer to the metadata to answer any potential questions or solve any problems. Alternatively, we could consider taking the average value of the 3 duplicate data entries and including that number in our clean dataset. However the values are very different; so for the sake of this exercise, these data points will be considered NA values. Another option would be to assign a new sample number or identifier to each of the duplicate samples that hace different mineral concentration values. For example, indices 300 and 301 could be assigned new sample numbers and those data points could be included in the final clean dataset."
   ]
  },
  {
   "cell_type": "markdown",
   "id": "3d9a4d57",
   "metadata": {},
   "source": [
    "## Latitude and Longitude Errors"
   ]
  },
  {
   "cell_type": "markdown",
   "id": "1b02247e",
   "metadata": {},
   "source": [
    "There are several data points where the latitude (\"northing_wgs84\") and longitude (\"easting_wgs84\") are flipped and/or one of the values has the incorrect positive or negative sign. These data points must be corrected so they can be included in the calculations for spatial analysis. Below we see a map of all of our raw data points."
   ]
  },
  {
   "cell_type": "code",
   "execution_count": 694,
   "id": "3a696700",
   "metadata": {},
   "outputs": [
    {
     "data": {
      "text/plain": [
       "<matplotlib.collections.PathCollection at 0x11d092a6250>"
      ]
     },
     "execution_count": 694,
     "metadata": {},
     "output_type": "execute_result"
    },
    {
     "data": {
      "image/png": "[encoded data removed]",
      "text/plain": [
       "<Figure size 432x288 with 1 Axes>"
      ]
     },
     "metadata": {
      "needs_background": "light"
     },
     "output_type": "display_data"
    }
   ],
   "source": [
    "plt.scatter(raw_df['easting_wgs84'], df['northing_wgs84'])"
   ]
  },
  {
   "cell_type": "markdown",
   "id": "35768a16",
   "metadata": {},
   "source": [
    "First we will swap any latitude (\"northing_wgs84\") and longitude (\"easting_wgs84\") points that appear to be in the opposite column. The following code chunk displays the data points where this switch must occur."
   ]
  },
  {
   "cell_type": "code",
   "execution_count": 696,
   "id": "88d69f99",
   "metadata": {},
   "outputs": [
    {
     "name": "stdout",
     "output_type": "stream",
     "text": [
      "The range for 'easting_wgs84' is between -93.35 and 92.93611 degrees.\n"
     ]
    }
   ],
   "source": [
    "easting_min = df['easting_wgs84'].min()\n",
    "easting_max = df['easting_wgs84'].max()\n",
    "\n",
    "print(\"The range for 'easting_wgs84' is between\", easting_min, \"and\", easting_max, \"degrees.\")"
   ]
  },
  {
   "cell_type": "code",
   "execution_count": 697,
   "id": "875159e4",
   "metadata": {},
   "outputs": [
    {
     "name": "stdout",
     "output_type": "stream",
     "text": [
      "The range for 'northing_wgs84' is between -93.2 and 48.66667 degrees.\n"
     ]
    }
   ],
   "source": [
    "northing_min = df['northing_wgs84'].min()\n",
    "northing_max = df['northing_wgs84'].max()\n",
    "\n",
    "print(\"The range for 'northing_wgs84' is between\", northing_min, \"and\", northing_max, \"degrees.\")"
   ]
  },
  {
   "cell_type": "code",
   "execution_count": 527,
   "id": "48a413a6",
   "metadata": {},
   "outputs": [
    {
     "data": {
      "text/html": [
       "<div>\n",
       "<style scoped>\n",
       "    .dataframe tbody tr th:only-of-type {\n",
       "        vertical-align: middle;\n",
       "    }\n",
       "\n",
       "    .dataframe tbody tr th {\n",
       "        vertical-align: top;\n",
       "    }\n",
       "\n",
       "    .dataframe thead th {\n",
       "        text-align: right;\n",
       "    }\n",
       "</style>\n",
       "<table border=\"1\" class=\"dataframe\">\n",
       "  <thead>\n",
       "    <tr style=\"text-align: right;\">\n",
       "      <th></th>\n",
       "      <th>sample</th>\n",
       "      <th>medium</th>\n",
       "      <th>easting_wgs84</th>\n",
       "      <th>northing_wgs84</th>\n",
       "      <th>date_assay</th>\n",
       "      <th>company</th>\n",
       "      <th>structure</th>\n",
       "      <th>lithology</th>\n",
       "      <th>Co_ppm</th>\n",
       "      <th>Cu_ppm</th>\n",
       "      <th>Ni_ppm</th>\n",
       "    </tr>\n",
       "  </thead>\n",
       "  <tbody>\n",
       "    <tr>\n",
       "      <th>21</th>\n",
       "      <td>9177307</td>\n",
       "      <td>rock_outcrop</td>\n",
       "      <td>48.41581</td>\n",
       "      <td>-92.52700</td>\n",
       "      <td>11/6/01</td>\n",
       "      <td>united_states_geological_survey</td>\n",
       "      <td>pluton; stock</td>\n",
       "      <td>granite</td>\n",
       "      <td>3.0</td>\n",
       "      <td>4.0</td>\n",
       "      <td>NaN</td>\n",
       "    </tr>\n",
       "    <tr>\n",
       "      <th>70</th>\n",
       "      <td>9278672</td>\n",
       "      <td>rock_outcrop</td>\n",
       "      <td>48.63333</td>\n",
       "      <td>-93.20000</td>\n",
       "      <td>11/14/83</td>\n",
       "      <td>united_states_geological_survey</td>\n",
       "      <td>xenolith</td>\n",
       "      <td>diorite</td>\n",
       "      <td>66.0</td>\n",
       "      <td>43.0</td>\n",
       "      <td>640</td>\n",
       "    </tr>\n",
       "    <tr>\n",
       "      <th>161</th>\n",
       "      <td>9334348</td>\n",
       "      <td>rock</td>\n",
       "      <td>47.61861</td>\n",
       "      <td>-91.93222</td>\n",
       "      <td>1/2/88</td>\n",
       "      <td>united_states_geological_survey</td>\n",
       "      <td>NaN</td>\n",
       "      <td>gabbro</td>\n",
       "      <td>22.5</td>\n",
       "      <td>75.0</td>\n",
       "      <td>75</td>\n",
       "    </tr>\n",
       "  </tbody>\n",
       "</table>\n",
       "</div>"
      ],
      "text/plain": [
       "      sample        medium  easting_wgs84  northing_wgs84 date_assay  \\\n",
       "21   9177307  rock_outcrop       48.41581       -92.52700    11/6/01   \n",
       "70   9278672  rock_outcrop       48.63333       -93.20000   11/14/83   \n",
       "161  9334348          rock       47.61861       -91.93222     1/2/88   \n",
       "\n",
       "                             company      structure lithology  Co_ppm  Cu_ppm  \\\n",
       "21   united_states_geological_survey  pluton; stock   granite     3.0     4.0   \n",
       "70   united_states_geological_survey       xenolith   diorite    66.0    43.0   \n",
       "161  united_states_geological_survey            NaN    gabbro    22.5    75.0   \n",
       "\n",
       "    Ni_ppm  \n",
       "21     NaN  \n",
       "70     640  \n",
       "161     75  "
      ]
     },
     "execution_count": 527,
     "metadata": {},
     "output_type": "execute_result"
    }
   ],
   "source": [
    "df.loc[(abs(df['easting_wgs84']) < 50)] # lists the data points where lat & long need to swap"
   ]
  },
  {
   "cell_type": "markdown",
   "id": "a7ee81a0",
   "metadata": {},
   "source": [
    "Next, we will update the dataset and actually switch the northing and easting values for all three data observations listed above."
   ]
  },
  {
   "cell_type": "code",
   "execution_count": 698,
   "id": "72a8c3cf",
   "metadata": {},
   "outputs": [
    {
     "data": {
      "text/html": [
       "<div>\n",
       "<style scoped>\n",
       "    .dataframe tbody tr th:only-of-type {\n",
       "        vertical-align: middle;\n",
       "    }\n",
       "\n",
       "    .dataframe tbody tr th {\n",
       "        vertical-align: top;\n",
       "    }\n",
       "\n",
       "    .dataframe thead th {\n",
       "        text-align: right;\n",
       "    }\n",
       "</style>\n",
       "<table border=\"1\" class=\"dataframe\">\n",
       "  <thead>\n",
       "    <tr style=\"text-align: right;\">\n",
       "      <th></th>\n",
       "      <th>easting_wgs84</th>\n",
       "      <th>northing_wgs84</th>\n",
       "    </tr>\n",
       "  </thead>\n",
       "  <tbody>\n",
       "    <tr>\n",
       "      <th>0</th>\n",
       "      <td>-93.16750</td>\n",
       "      <td>48.60222</td>\n",
       "    </tr>\n",
       "    <tr>\n",
       "      <th>1</th>\n",
       "      <td>-93.16750</td>\n",
       "      <td>48.60222</td>\n",
       "    </tr>\n",
       "    <tr>\n",
       "      <th>2</th>\n",
       "      <td>-93.11861</td>\n",
       "      <td>48.60639</td>\n",
       "    </tr>\n",
       "    <tr>\n",
       "      <th>3</th>\n",
       "      <td>-93.11861</td>\n",
       "      <td>48.60639</td>\n",
       "    </tr>\n",
       "    <tr>\n",
       "      <th>4</th>\n",
       "      <td>92.70556</td>\n",
       "      <td>-48.51444</td>\n",
       "    </tr>\n",
       "    <tr>\n",
       "      <th>...</th>\n",
       "      <td>...</td>\n",
       "      <td>...</td>\n",
       "    </tr>\n",
       "    <tr>\n",
       "      <th>300</th>\n",
       "      <td>-90.41667</td>\n",
       "      <td>47.75000</td>\n",
       "    </tr>\n",
       "    <tr>\n",
       "      <th>301</th>\n",
       "      <td>-90.41667</td>\n",
       "      <td>47.75000</td>\n",
       "    </tr>\n",
       "    <tr>\n",
       "      <th>302</th>\n",
       "      <td>-90.33333</td>\n",
       "      <td>48.00000</td>\n",
       "    </tr>\n",
       "    <tr>\n",
       "      <th>303</th>\n",
       "      <td>-90.33333</td>\n",
       "      <td>48.00000</td>\n",
       "    </tr>\n",
       "    <tr>\n",
       "      <th>304</th>\n",
       "      <td>-90.33333</td>\n",
       "      <td>48.00000</td>\n",
       "    </tr>\n",
       "  </tbody>\n",
       "</table>\n",
       "<p>305 rows × 2 columns</p>\n",
       "</div>"
      ],
      "text/plain": [
       "     easting_wgs84  northing_wgs84\n",
       "0        -93.16750        48.60222\n",
       "1        -93.16750        48.60222\n",
       "2        -93.11861        48.60639\n",
       "3        -93.11861        48.60639\n",
       "4         92.70556       -48.51444\n",
       "..             ...             ...\n",
       "300      -90.41667        47.75000\n",
       "301      -90.41667        47.75000\n",
       "302      -90.33333        48.00000\n",
       "303      -90.33333        48.00000\n",
       "304      -90.33333        48.00000\n",
       "\n",
       "[305 rows x 2 columns]"
      ]
     },
     "execution_count": 698,
     "metadata": {},
     "output_type": "execute_result"
    }
   ],
   "source": [
    "df[['easting_wgs84','northing_wgs84']] = df[['northing_wgs84','easting_wgs84']].where(abs(df['easting_wgs84']) < 50,\n",
    "                                                                                      df[['easting_wgs84','northing_wgs84']].values)\n",
    "df[['easting_wgs84','northing_wgs84']]"
   ]
  },
  {
   "cell_type": "markdown",
   "id": "de94fc0b",
   "metadata": {},
   "source": [
    "Here we multiply the absolute value of the easting value by -1 to make sure all the longitude values are negative and reflect the geographic location in the Western Hemisphere."
   ]
  },
  {
   "cell_type": "code",
   "execution_count": 699,
   "id": "4c51b0f4",
   "metadata": {
    "scrolled": true
   },
   "outputs": [
    {
     "name": "stdout",
     "output_type": "stream",
     "text": [
      "0     -93.16750\n",
      "1     -93.16750\n",
      "2     -93.11861\n",
      "3     -93.11861\n",
      "4     -92.70556\n",
      "         ...   \n",
      "300   -90.41667\n",
      "301   -90.41667\n",
      "302   -90.33333\n",
      "303   -90.33333\n",
      "304   -90.33333\n",
      "Name: easting_wgs84, Length: 305, dtype: float64\n"
     ]
    }
   ],
   "source": [
    "df['easting_wgs84'] = df['easting_wgs84'].apply(abs)*(-1) # ensures that all longitude values are negative (Western Hemisphere)\n",
    "print(df['easting_wgs84'])"
   ]
  },
  {
   "cell_type": "markdown",
   "id": "1bd7b6cb",
   "metadata": {},
   "source": [
    "Below we find the absolute value of all northing values to make sure all the latitude values are positive and reflect the geographic location in the Northern Hemisphere."
   ]
  },
  {
   "cell_type": "code",
   "execution_count": 700,
   "id": "1d028d00",
   "metadata": {},
   "outputs": [
    {
     "name": "stdout",
     "output_type": "stream",
     "text": [
      "0      48.60222\n",
      "1      48.60222\n",
      "2      48.60639\n",
      "3      48.60639\n",
      "4      48.51444\n",
      "         ...   \n",
      "300    47.75000\n",
      "301    47.75000\n",
      "302    48.00000\n",
      "303    48.00000\n",
      "304    48.00000\n",
      "Name: northing_wgs84, Length: 305, dtype: float64\n"
     ]
    }
   ],
   "source": [
    "df['northing_wgs84'] = df['northing_wgs84'].apply(abs) # ensures that all latitude values are positive (Northern Hemisphere)\n",
    "print(df['northing_wgs84'])"
   ]
  },
  {
   "cell_type": "markdown",
   "id": "8be899e7",
   "metadata": {},
   "source": [
    "In the map below, using the updated dataframe, we see that all data points are relegated to the same geogaphical area in Canada."
   ]
  },
  {
   "cell_type": "code",
   "execution_count": 701,
   "id": "a120a236",
   "metadata": {},
   "outputs": [
    {
     "data": {
      "text/plain": [
       "<matplotlib.collections.PathCollection at 0x11d094d4820>"
      ]
     },
     "execution_count": 701,
     "metadata": {},
     "output_type": "execute_result"
    },
    {
     "data": {
      "image/png": "[encoded data removed]",
      "text/plain": [
       "<Figure size 432x288 with 1 Axes>"
      ]
     },
     "metadata": {
      "needs_background": "light"
     },
     "output_type": "display_data"
    }
   ],
   "source": [
    "plt.scatter(df['easting_wgs84'], df['northing_wgs84'])"
   ]
  },
  {
   "cell_type": "markdown",
   "id": "7f07fbdb",
   "metadata": {},
   "source": [
    "## NA Values"
   ]
  },
  {
   "cell_type": "markdown",
   "id": "b170dcb9",
   "metadata": {},
   "source": [
    "The `unique` function will list all the unique values for a given column. The `min` and `max` functions can be used to display the ranges for each of the mineral concentration columns."
   ]
  },
  {
   "cell_type": "code",
   "execution_count": 702,
   "id": "0dd79fab",
   "metadata": {},
   "outputs": [
    {
     "data": {
      "text/plain": [
       "array([1.000e-01, 1.200e-01, 4.100e-01, 4.300e-01, 5.000e-01, 6.250e-01,\n",
       "       1.000e+00, 1.200e+00, 1.250e+00, 1.600e+00, 1.750e+00, 1.810e+00,\n",
       "       2.200e+00, 2.500e+00, 3.000e+00, 3.300e+00, 3.650e+00, 3.750e+00,\n",
       "       3.970e+00, 4.000e+00, 4.520e+00, 4.970e+00, 5.000e+00, 5.700e+00,\n",
       "       6.150e+00, 7.000e+00, 7.200e+00, 7.260e+00, 7.500e+00, 8.000e+00,\n",
       "       8.590e+00, 9.800e+00, 1.000e+01, 1.030e+01, 1.100e+01, 1.250e+01,\n",
       "       1.300e+01, 1.360e+01, 1.380e+01, 1.400e+01, 1.450e+01, 1.460e+01,\n",
       "       1.500e+01, 1.600e+01, 1.610e+01, 1.700e+01, 1.750e+01, 1.800e+01,\n",
       "       1.840e+01, 1.900e+01, 1.910e+01, 2.000e+01, 2.070e+01, 2.080e+01,\n",
       "       2.090e+01, 2.100e+01, 2.150e+01, 2.170e+01, 2.250e+01, 2.300e+01,\n",
       "       2.330e+01, 2.350e+01, 2.400e+01, 2.440e+01, 2.470e+01, 2.500e+01,\n",
       "       2.540e+01, 2.600e+01, 2.630e+01, 2.700e+01, 2.730e+01, 2.820e+01,\n",
       "       2.900e+01, 2.910e+01, 2.950e+01, 2.960e+01, 2.990e+01, 3.000e+01,\n",
       "       3.080e+01, 3.200e+01, 3.260e+01, 3.300e+01, 3.400e+01, 3.600e+01,\n",
       "       3.700e+01, 3.750e+01, 3.790e+01, 3.870e+01, 3.930e+01, 3.970e+01,\n",
       "       3.980e+01, 4.000e+01, 4.140e+01, 4.200e+01, 4.250e+01, 4.300e+01,\n",
       "       4.380e+01, 4.400e+01, 4.420e+01, 4.440e+01, 4.500e+01, 4.600e+01,\n",
       "       4.620e+01, 4.780e+01, 4.870e+01, 5.000e+01, 5.120e+01, 5.200e+01,\n",
       "       5.210e+01, 5.370e+01, 5.380e+01, 5.400e+01, 5.500e+01, 5.600e+01,\n",
       "       5.660e+01, 5.840e+01, 5.850e+01, 5.900e+01, 6.000e+01, 6.150e+01,\n",
       "       6.200e+01, 6.600e+01, 7.050e+01, 7.200e+01, 7.350e+01, 7.500e+01,\n",
       "       7.700e+01, 7.800e+01, 7.950e+01, 8.000e+01, 8.110e+01, 8.500e+01,\n",
       "       9.450e+01, 9.600e+01, 9.750e+01, 9.800e+01, 9.900e+01, 1.050e+02,\n",
       "       1.170e+02, 1.200e+02, 1.230e+02, 1.245e+02, 1.395e+02, 1.425e+02,\n",
       "       1.500e+02, 1.530e+02, 1.545e+02, 1.815e+02, 1.875e+02, 2.025e+02,\n",
       "       2.130e+02, 2.145e+02, 2.160e+02, 2.250e+02, 2.295e+02, 2.475e+02,\n",
       "       2.550e+02, 3.300e+02, 7.680e+02,       nan,       nan,       nan])"
      ]
     },
     "execution_count": 702,
     "metadata": {},
     "output_type": "execute_result"
    }
   ],
   "source": [
    "np.unique(df['Co_ppm']) # this only works after using fillna function to add \"unknown\" string"
   ]
  },
  {
   "cell_type": "code",
   "execution_count": 710,
   "id": "cf6607e4",
   "metadata": {},
   "outputs": [
    {
     "name": "stdout",
     "output_type": "stream",
     "text": [
      "The range for cobalt is between 0.1 and 768.0 ppm.\n"
     ]
    }
   ],
   "source": [
    "cobalt_min = df['Co_ppm'].min()\n",
    "cobalt_max = df['Co_ppm'].max()\n",
    "\n",
    "print(\"The range for cobalt is between\", cobalt_min, \"and\", cobalt_max, \"ppm.\")"
   ]
  },
  {
   "cell_type": "markdown",
   "id": "11b95d94",
   "metadata": {},
   "source": [
    "Because these values represent mineral concentrations, negative values are nonsensical. We could make the choice to consider all negative values as NA; however, since the negative values included in this column are within a reasonalbe range if they were positive, we will convert these values to positive numbers in a later step and keep them for our future analysis."
   ]
  },
  {
   "cell_type": "code",
   "execution_count": 704,
   "id": "e3e51c97",
   "metadata": {},
   "outputs": [
    {
     "name": "stdout",
     "output_type": "stream",
     "text": [
      "The range for copper is between 0.4 and 2617.5 ppm.\n"
     ]
    }
   ],
   "source": [
    "copper_min = df['Cu_ppm'].min()\n",
    "copper_max = df['Cu_ppm'].max()\n",
    "\n",
    "print(\"The range for copper is between\", copper_min, \"and\", copper_max, \"ppm.\")"
   ]
  },
  {
   "cell_type": "markdown",
   "id": "a8b53aac",
   "metadata": {},
   "source": [
    "Here we see that the copper values include common NA identifiers such as -99999 and 99999. We must convert these values to NA in a later step as well."
   ]
  },
  {
   "cell_type": "code",
   "execution_count": 705,
   "id": "4a4850da",
   "metadata": {},
   "outputs": [
    {
     "name": "stdout",
     "output_type": "stream",
     "text": [
      "The range for nickel is between 1.25 and 1200.0 ppm.\n"
     ]
    }
   ],
   "source": [
    "nickel_min = df['Ni_ppm'].min()\n",
    "nickel_max = df['Ni_ppm'].max()\n",
    "\n",
    "print(\"The range for nickel is between\", nickel_min, \"and\", nickel_max, \"ppm.\")"
   ]
  },
  {
   "cell_type": "markdown",
   "id": "61f033ee",
   "metadata": {},
   "source": [
    "The nickel data column has a string value listed for very low concentrations (\"<1.5\"). How to deal..."
   ]
  },
  {
   "cell_type": "code",
   "execution_count": 706,
   "id": "c0a7c2ce",
   "metadata": {},
   "outputs": [
    {
     "name": "stdout",
     "output_type": "stream",
     "text": [
      "     Ni_ppm\n",
      "0      75.0\n",
      "1      44.0\n",
      "2      18.0\n",
      "3      32.0\n",
      "4      77.0\n",
      "..      ...\n",
      "300    41.0\n",
      "301   242.0\n",
      "302    41.0\n",
      "303    41.0\n",
      "304    41.0\n",
      "\n",
      "[305 rows x 1 columns]\n"
     ]
    }
   ],
   "source": [
    "df[['Ni_ppm']] = df[['Ni_ppm']].mask(df[['Ni_ppm']] == \"<1.5\") # changes <1.5 values to NA\n",
    "\n",
    "print(df[['Ni_ppm']])"
   ]
  },
  {
   "cell_type": "code",
   "execution_count": 707,
   "id": "56baaccf",
   "metadata": {},
   "outputs": [],
   "source": [
    "df.Ni_ppm = df.Ni_ppm.astype(float) # converts data type to float so that we can apply absolute value function in next code chunk"
   ]
  },
  {
   "cell_type": "code",
   "execution_count": 708,
   "id": "cc3ec64e",
   "metadata": {},
   "outputs": [
    {
     "name": "stdout",
     "output_type": "stream",
     "text": [
      "     Co_ppm  Cu_ppm  Ni_ppm\n",
      "0      21.0    36.0    75.0\n",
      "1      29.0   198.0    44.0\n",
      "2      11.0    91.0    18.0\n",
      "3      17.0    63.0    32.0\n",
      "4      18.0    28.0    77.0\n",
      "..      ...     ...     ...\n",
      "300    36.0   110.0    41.0\n",
      "301    52.0    58.0   242.0\n",
      "302    42.0   100.0    41.0\n",
      "303    42.0   100.0    41.0\n",
      "304    42.0   100.0    41.0\n",
      "\n",
      "[305 rows x 3 columns]\n"
     ]
    }
   ],
   "source": [
    "df[['Co_ppm','Cu_ppm','Ni_ppm']] = df[['Co_ppm','Cu_ppm','Ni_ppm']].apply(abs)\n",
    "\n",
    "print(df[['Co_ppm','Cu_ppm','Ni_ppm']])"
   ]
  },
  {
   "cell_type": "code",
   "execution_count": 662,
   "id": "ba1c48f6",
   "metadata": {},
   "outputs": [
    {
     "name": "stdout",
     "output_type": "stream",
     "text": [
      "     Cu_ppm\n",
      "0      36.0\n",
      "1     198.0\n",
      "2      91.0\n",
      "3      63.0\n",
      "4      28.0\n",
      "..      ...\n",
      "300   110.0\n",
      "301    58.0\n",
      "302   100.0\n",
      "303   100.0\n",
      "304   100.0\n",
      "\n",
      "[305 rows x 1 columns]\n"
     ]
    }
   ],
   "source": [
    "df[['Cu_ppm']] = df[['Cu_ppm']].mask(df[['Cu_ppm']] == abs(99999)) # changes 99999 values to NA\n",
    "\n",
    "print(df[['Cu_ppm']])"
   ]
  },
  {
   "cell_type": "code",
   "execution_count": 713,
   "id": "b87b14fa",
   "metadata": {
    "scrolled": true
   },
   "outputs": [
    {
     "name": "stdout",
     "output_type": "stream",
     "text": [
      "sample             0\n",
      "medium             0\n",
      "easting_wgs84      0\n",
      "northing_wgs84     1\n",
      "date_assay         0\n",
      "company            0\n",
      "structure          0\n",
      "lithology          0\n",
      "Co_ppm             3\n",
      "Cu_ppm            65\n",
      "Ni_ppm             6\n",
      "dtype: int64\n"
     ]
    }
   ],
   "source": [
    "print(df.isna().sum()) # counts the number of NA (null) values in each column"
   ]
  },
  {
   "cell_type": "markdown",
   "id": "0d61306e",
   "metadata": {},
   "source": [
    "Cobalt has 8 (3), Copper has 69 (2 + 63 = 65), and Nickel has 7 (6) total NA values. *THESE ARE CORRECT VALUES (converting negative values to positive)*"
   ]
  },
  {
   "cell_type": "markdown",
   "id": "5aca8bd2",
   "metadata": {},
   "source": [
    "Notice that the total count of NA values increases."
   ]
  },
  {
   "cell_type": "code",
   "execution_count": 686,
   "id": "17ee755b",
   "metadata": {},
   "outputs": [],
   "source": [
    "df.structure.fillna(value = \"unknown\", inplace = True) # change NA values in \"Structure\" column to \"unknown\" string\n",
    "df.lithology.fillna(value = \"unknown\", inplace = True) # change NA values in \"Lithology\" column to \"unknown\" string"
   ]
  },
  {
   "cell_type": "code",
   "execution_count": 668,
   "id": "ebae7773",
   "metadata": {},
   "outputs": [],
   "source": [
    "df.lithology = df.lithology.str.lower() # change all lithology types to lower case letters for uniformity"
   ]
  },
  {
   "cell_type": "code",
   "execution_count": 716,
   "id": "b272c343",
   "metadata": {},
   "outputs": [],
   "source": [
    "df.lithology.replace(('Basalt','basalt.','bassalt','basaltt'), 'basalt', inplace = True) # change all \"basalt\" typos"
   ]
  },
  {
   "cell_type": "code",
   "execution_count": 717,
   "id": "84577138",
   "metadata": {},
   "outputs": [],
   "source": [
    "df.lithology.replace(('GABBRO', 'gabro'), 'gabbro', inplace = True) # change all \"gabbro\" typos"
   ]
  },
  {
   "cell_type": "code",
   "execution_count": 46,
   "id": "e1d5b5d2",
   "metadata": {},
   "outputs": [],
   "source": [
    "df.lithology.replace('meta-andesite', 'metaandesite', inplace = True) # drop the dash for consistency in lithology names"
   ]
  },
  {
   "cell_type": "code",
   "execution_count": 669,
   "id": "3effcbf0",
   "metadata": {},
   "outputs": [],
   "source": [
    "df.lithology.replace('meta-graywacke', 'metagraywacke', inplace = True) # drop the dash for consistency in lithology names"
   ]
  },
  {
   "cell_type": "code",
   "execution_count": 682,
   "id": "6e72e3c6",
   "metadata": {},
   "outputs": [],
   "source": [
    "df.lithology.replace('none', 'unknown', inplace = True) # is none the same as unknown?"
   ]
  },
  {
   "cell_type": "code",
   "execution_count": 711,
   "id": "52cb691f",
   "metadata": {},
   "outputs": [],
   "source": [
    "df.lithology.replace('unknown', np.NaN, inplace = True)"
   ]
  },
  {
   "cell_type": "code",
   "execution_count": 714,
   "id": "350ff519",
   "metadata": {},
   "outputs": [
    {
     "data": {
      "text/plain": [
       "array(['UNKONWN', 'andesite', 'argillite', 'basalt', 'basalt.', 'basaltt',\n",
       "       'bassalt', 'chert', 'dacite', 'diorite', 'felsic', 'gabbro',\n",
       "       'gabro', 'granite', 'granodiorite', 'graywacke', 'greenstone',\n",
       "       'hornfels', 'meta-andesite', 'metafelsite', 'metagraywacke',\n",
       "       'metasediment', 'metasiltstone', 'monzonite', 'pegmatite',\n",
       "       'rhyolite', 'sandstone', 'schist', 'shale', 'siliciclastic',\n",
       "       'tuff'], dtype=object)"
      ]
     },
     "execution_count": 714,
     "metadata": {},
     "output_type": "execute_result"
    }
   ],
   "source": [
    "np.unique(df['lithology']) # this only works after using fillna function to add \"unknown\" string"
   ]
  },
  {
   "cell_type": "markdown",
   "id": "739204df",
   "metadata": {},
   "source": [
    "## Compare Basalt and Gabbro"
   ]
  },
  {
   "cell_type": "markdown",
   "id": "46b7747f",
   "metadata": {},
   "source": [
    "First we will subset the clean dataframe to only include lithologies with basalt and gabbro."
   ]
  },
  {
   "cell_type": "code",
   "execution_count": 750,
   "id": "a39b4c35",
   "metadata": {},
   "outputs": [
    {
     "name": "stdout",
     "output_type": "stream",
     "text": [
      "      sample        medium  easting_wgs84  northing_wgs84 date_assay  \\\n",
      "8    9177294  rock_outcrop      -89.82863        48.00460    11/6/01   \n",
      "9    9177295  rock_outcrop      -89.80772        48.00198    11/6/01   \n",
      "10   9177296          rock      -89.80772        48.00198    11/6/01   \n",
      "13   9177299  rock_outcrop      -89.68931        47.96223    11/6/01   \n",
      "14   9177300  rock_outcrop      -89.68931        47.96223    11/6/01   \n",
      "..       ...           ...            ...             ...        ...   \n",
      "300  9497345  rock_outcrop      -90.41667        47.75000     4/5/89   \n",
      "301  9497345  rock_outcrop      -90.41667        47.75000     4/5/89   \n",
      "302  9497291  rock_outcrop      -90.33333        48.00000    3/20/89   \n",
      "303  9497291  rock_outcrop      -90.33333        48.00000    3/20/89   \n",
      "304  9497291  rock_outcrop      -90.33333        48.00000    3/20/89   \n",
      "\n",
      "                             company              structure lithology  Co_ppm  \\\n",
      "8    united_states_geological_survey  dike; sill; laccolith    gabbro    54.0   \n",
      "9    united_states_geological_survey  dike; sill; laccolith    gabbro    61.5   \n",
      "10   united_states_geological_survey  dike; sill; laccolith    gabbro    61.5   \n",
      "13   united_states_geological_survey  dike; sill; laccolith    gabbro    73.5   \n",
      "14   united_states_geological_survey  dike; sill; laccolith    gabbro    73.5   \n",
      "..                               ...                    ...       ...     ...   \n",
      "300  united_states_geological_survey              lava flow    basalt    36.0   \n",
      "301  united_states_geological_survey              lava flow    basalt    52.0   \n",
      "302  united_states_geological_survey              lava flow    basalt    42.0   \n",
      "303  united_states_geological_survey              lava flow    basalt    42.0   \n",
      "304  united_states_geological_survey              lava flow    basalt    42.0   \n",
      "\n",
      "     Cu_ppm  Ni_ppm  \n",
      "8     174.0    37.5  \n",
      "9     232.5    45.0  \n",
      "10    237.0    45.0  \n",
      "13    387.0   111.0  \n",
      "14      NaN   106.5  \n",
      "..      ...     ...  \n",
      "300   110.0    41.0  \n",
      "301    58.0   242.0  \n",
      "302   100.0    41.0  \n",
      "303   100.0    41.0  \n",
      "304   100.0    41.0  \n",
      "\n",
      "[103 rows x 11 columns]\n"
     ]
    }
   ],
   "source": [
    "df_subset = df[df[\"lithology\"].isin([\"basalt\", 'gabbro'])] # should contain 103 rows\n",
    "print(df_subset)"
   ]
  },
  {
   "cell_type": "markdown",
   "id": "a273fdf4",
   "metadata": {},
   "source": [
    "In order to perform OLS regression, we need to assign dummy variables to our categorical (in this case, binary) variable of interest."
   ]
  },
  {
   "cell_type": "code",
   "execution_count": 807,
   "id": "32564e3d",
   "metadata": {},
   "outputs": [
    {
     "name": "stderr",
     "output_type": "stream",
     "text": [
      "C:\\ProgramData\\Anaconda3\\lib\\site-packages\\pandas\\core\\series.py:4509: SettingWithCopyWarning: \n",
      "A value is trying to be set on a copy of a slice from a DataFrame\n",
      "\n",
      "See the caveats in the documentation: https://pandas.pydata.org/pandas-docs/stable/user_guide/indexing.html#returning-a-view-versus-a-copy\n",
      "  return super().replace(\n"
     ]
    }
   ],
   "source": [
    "df_subset.lithology.replace(\"basalt\", 1, inplace = True)\n",
    "df_subset.lithology.replace(\"gabbro\", 0, inplace = True)"
   ]
  },
  {
   "cell_type": "code",
   "execution_count": 806,
   "id": "d125eab7",
   "metadata": {},
   "outputs": [
    {
     "data": {
      "text/plain": [
       "<bound method NDFrame.head of       sample        medium  easting_wgs84  northing_wgs84 date_assay  \\\n",
       "8    9177294  rock_outcrop      -89.82863        48.00460    11/6/01   \n",
       "9    9177295  rock_outcrop      -89.80772        48.00198    11/6/01   \n",
       "10   9177296          rock      -89.80772        48.00198    11/6/01   \n",
       "13   9177299  rock_outcrop      -89.68931        47.96223    11/6/01   \n",
       "14   9177300  rock_outcrop      -89.68931        47.96223    11/6/01   \n",
       "..       ...           ...            ...             ...        ...   \n",
       "300  9497345  rock_outcrop      -90.41667        47.75000     4/5/89   \n",
       "301  9497345  rock_outcrop      -90.41667        47.75000     4/5/89   \n",
       "302  9497291  rock_outcrop      -90.33333        48.00000    3/20/89   \n",
       "303  9497291  rock_outcrop      -90.33333        48.00000    3/20/89   \n",
       "304  9497291  rock_outcrop      -90.33333        48.00000    3/20/89   \n",
       "\n",
       "                             company              structure  lithology  \\\n",
       "8    united_states_geological_survey  dike; sill; laccolith          0   \n",
       "9    united_states_geological_survey  dike; sill; laccolith          0   \n",
       "10   united_states_geological_survey  dike; sill; laccolith          0   \n",
       "13   united_states_geological_survey  dike; sill; laccolith          0   \n",
       "14   united_states_geological_survey  dike; sill; laccolith          0   \n",
       "..                               ...                    ...        ...   \n",
       "300  united_states_geological_survey              lava flow          1   \n",
       "301  united_states_geological_survey              lava flow          1   \n",
       "302  united_states_geological_survey              lava flow          1   \n",
       "303  united_states_geological_survey              lava flow          1   \n",
       "304  united_states_geological_survey              lava flow          1   \n",
       "\n",
       "     Co_ppm  Cu_ppm  Ni_ppm  \n",
       "8      54.0   174.0    37.5  \n",
       "9      61.5   232.5    45.0  \n",
       "10     61.5   237.0    45.0  \n",
       "13     73.5   387.0   111.0  \n",
       "14     73.5     NaN   106.5  \n",
       "..      ...     ...     ...  \n",
       "300    36.0   110.0    41.0  \n",
       "301    52.0    58.0   242.0  \n",
       "302    42.0   100.0    41.0  \n",
       "303    42.0   100.0    41.0  \n",
       "304    42.0   100.0    41.0  \n",
       "\n",
       "[103 rows x 11 columns]>"
      ]
     },
     "execution_count": 806,
     "metadata": {},
     "output_type": "execute_result"
    }
   ],
   "source": [
    "df_subset.head"
   ]
  },
  {
   "cell_type": "code",
   "execution_count": 810,
   "id": "f7c7b0d9",
   "metadata": {},
   "outputs": [
    {
     "data": {
      "text/plain": [
       "Text(0, 0.5, 'Frequency')"
      ]
     },
     "execution_count": 810,
     "metadata": {},
     "output_type": "execute_result"
    },
    {
     "data": {
      "image/png": "[encoded data removed]",
      "text/plain": [
       "<Figure size 720x504 with 1 Axes>"
      ]
     },
     "metadata": {
      "needs_background": "light"
     },
     "output_type": "display_data"
    }
   ],
   "source": [
    "df_subset.Co_ppm.plot(kind='hist', color='blue', edgecolor='black', alpha = 0.5, figsize=(10,7))\n",
    "df_subset.Ni_ppm.plot(kind='hist', color='red', edgecolor='black', alpha = 0.5, figsize=(10,7))\n",
    "\n",
    "plt.title('Distribution of Cobalt and Nickel', size=24)\n",
    "plt.legend(labels=['Cobalt', 'Nickel'])\n",
    "plt.xlabel('Metal Concentration (ppm)', size=18)\n",
    "plt.ylabel('Frequency', size=18)"
   ]
  },
  {
   "cell_type": "markdown",
   "id": "0c5ed921",
   "metadata": {},
   "source": [
    "Because the distributions look somewhat normal (actually they are right skewed - should do a log transformation?), we can do an OLS (ordinary least squares) regression analysis to determine which lithology is more prospective / which lithology better predicts of high concentrations of Cobalt and Nickel ..."
   ]
  },
  {
   "cell_type": "code",
   "execution_count": 793,
   "id": "91fe4a66",
   "metadata": {},
   "outputs": [
    {
     "name": "stdout",
     "output_type": "stream",
     "text": [
      "152.54999999999995\n",
      "[-100.91283019]\n"
     ]
    }
   ],
   "source": [
    "from sklearn.linear_model import LinearRegression\n",
    "\n",
    "# create linear regression object\n",
    "mlr = LinearRegression()\n",
    "\n",
    "# fit linear regression\n",
    "mlr.fit(df_subset[['lithology']], df_subset['Co_ppm'])\n",
    "\n",
    "# get the slope and intercept of the line best fit.\n",
    "print(mlr.intercept_)\n",
    "# -244.92350252069903\n",
    "\n",
    "print(mlr.coef_)\n",
    "# [ 5.97694123 19.37771052]"
   ]
  },
  {
   "cell_type": "markdown",
   "id": "d76f834a",
   "metadata": {},
   "source": [
    "For both cobalt and nickel the mrl.coefficient (slope) is a negative value, meaning when basalt (lithology = 1) is accounted for, the average mineral concentration value decreases. This implies that gabbro lithology is more prospective. The p-value is low very close to zero so these values are statistically significant."
   ]
  },
  {
   "cell_type": "code",
   "execution_count": 789,
   "id": "5f0a1b45",
   "metadata": {},
   "outputs": [
    {
     "data": {
      "text/html": [
       "<table class=\"simpletable\">\n",
       "<caption>OLS Regression Results</caption>\n",
       "<tr>\n",
       "  <th>Dep. Variable:</th>         <td>Co_ppm</td>      <th>  R-squared:         </th> <td>   0.290</td>\n",
       "</tr>\n",
       "<tr>\n",
       "  <th>Model:</th>                   <td>OLS</td>       <th>  Adj. R-squared:    </th> <td>   0.283</td>\n",
       "</tr>\n",
       "<tr>\n",
       "  <th>Method:</th>             <td>Least Squares</td>  <th>  F-statistic:       </th> <td>   41.29</td>\n",
       "</tr>\n",
       "<tr>\n",
       "  <th>Date:</th>             <td>Tue, 13 Feb 2024</td> <th>  Prob (F-statistic):</th> <td>4.36e-09</td>\n",
       "</tr>\n",
       "<tr>\n",
       "  <th>Time:</th>                 <td>00:20:02</td>     <th>  Log-Likelihood:    </th> <td> -596.04</td>\n",
       "</tr>\n",
       "<tr>\n",
       "  <th>No. Observations:</th>      <td>   103</td>      <th>  AIC:               </th> <td>   1196.</td>\n",
       "</tr>\n",
       "<tr>\n",
       "  <th>Df Residuals:</th>          <td>   101</td>      <th>  BIC:               </th> <td>   1201.</td>\n",
       "</tr>\n",
       "<tr>\n",
       "  <th>Df Model:</th>              <td>     1</td>      <th>                     </th>     <td> </td>   \n",
       "</tr>\n",
       "<tr>\n",
       "  <th>Covariance Type:</th>      <td>nonrobust</td>    <th>                     </th>     <td> </td>   \n",
       "</tr>\n",
       "</table>\n",
       "<table class=\"simpletable\">\n",
       "<tr>\n",
       "      <td></td>         <th>coef</th>     <th>std err</th>      <th>t</th>      <th>P>|t|</th>  <th>[0.025</th>    <th>0.975]</th>  \n",
       "</tr>\n",
       "<tr>\n",
       "  <th>Intercept</th> <td>  152.5500</td> <td>   11.265</td> <td>   13.542</td> <td> 0.000</td> <td>  130.204</td> <td>  174.896</td>\n",
       "</tr>\n",
       "<tr>\n",
       "  <th>lithology</th> <td> -100.9128</td> <td>   15.704</td> <td>   -6.426</td> <td> 0.000</td> <td> -132.065</td> <td>  -69.761</td>\n",
       "</tr>\n",
       "</table>\n",
       "<table class=\"simpletable\">\n",
       "<tr>\n",
       "  <th>Omnibus:</th>       <td>136.006</td> <th>  Durbin-Watson:     </th> <td>   1.438</td>\n",
       "</tr>\n",
       "<tr>\n",
       "  <th>Prob(Omnibus):</th> <td> 0.000</td>  <th>  Jarque-Bera (JB):  </th> <td>5166.087</td>\n",
       "</tr>\n",
       "<tr>\n",
       "  <th>Skew:</th>          <td> 4.438</td>  <th>  Prob(JB):          </th> <td>    0.00</td>\n",
       "</tr>\n",
       "<tr>\n",
       "  <th>Kurtosis:</th>      <td>36.540</td>  <th>  Cond. No.          </th> <td>    2.65</td>\n",
       "</tr>\n",
       "</table><br/><br/>Notes:<br/>[1] Standard Errors assume that the covariance matrix of the errors is correctly specified."
      ],
      "text/plain": [
       "<class 'statsmodels.iolib.summary.Summary'>\n",
       "\"\"\"\n",
       "                            OLS Regression Results                            \n",
       "==============================================================================\n",
       "Dep. Variable:                 Co_ppm   R-squared:                       0.290\n",
       "Model:                            OLS   Adj. R-squared:                  0.283\n",
       "Method:                 Least Squares   F-statistic:                     41.29\n",
       "Date:                Tue, 13 Feb 2024   Prob (F-statistic):           4.36e-09\n",
       "Time:                        00:20:02   Log-Likelihood:                -596.04\n",
       "No. Observations:                 103   AIC:                             1196.\n",
       "Df Residuals:                     101   BIC:                             1201.\n",
       "Df Model:                           1                                         \n",
       "Covariance Type:            nonrobust                                         \n",
       "==============================================================================\n",
       "                 coef    std err          t      P>|t|      [0.025      0.975]\n",
       "------------------------------------------------------------------------------\n",
       "Intercept    152.5500     11.265     13.542      0.000     130.204     174.896\n",
       "lithology   -100.9128     15.704     -6.426      0.000    -132.065     -69.761\n",
       "==============================================================================\n",
       "Omnibus:                      136.006   Durbin-Watson:                   1.438\n",
       "Prob(Omnibus):                  0.000   Jarque-Bera (JB):             5166.087\n",
       "Skew:                           4.438   Prob(JB):                         0.00\n",
       "Kurtosis:                      36.540   Cond. No.                         2.65\n",
       "==============================================================================\n",
       "\n",
       "Notes:\n",
       "[1] Standard Errors assume that the covariance matrix of the errors is correctly specified.\n",
       "\"\"\""
      ]
     },
     "execution_count": 789,
     "metadata": {},
     "output_type": "execute_result"
    }
   ],
   "source": [
    "from statsmodels.formula.api import ols\n",
    "\n",
    "model = ols('Co_ppm ~ lithology', data=df_subset)\n",
    "fitted_model = model.fit()\n",
    "fitted_model.summary()"
   ]
  },
  {
   "cell_type": "code",
   "execution_count": 791,
   "id": "2d856cea",
   "metadata": {},
   "outputs": [
    {
     "data": {
      "text/html": [
       "<table class=\"simpletable\">\n",
       "<caption>OLS Regression Results</caption>\n",
       "<tr>\n",
       "  <th>Dep. Variable:</th>         <td>Ni_ppm</td>      <th>  R-squared:         </th> <td>   0.176</td>\n",
       "</tr>\n",
       "<tr>\n",
       "  <th>Model:</th>                   <td>OLS</td>       <th>  Adj. R-squared:    </th> <td>   0.168</td>\n",
       "</tr>\n",
       "<tr>\n",
       "  <th>Method:</th>             <td>Least Squares</td>  <th>  F-statistic:       </th> <td>   21.54</td>\n",
       "</tr>\n",
       "<tr>\n",
       "  <th>Date:</th>             <td>Tue, 13 Feb 2024</td> <th>  Prob (F-statistic):</th> <td>1.04e-05</td>\n",
       "</tr>\n",
       "<tr>\n",
       "  <th>Time:</th>                 <td>00:21:14</td>     <th>  Log-Likelihood:    </th> <td> -702.29</td>\n",
       "</tr>\n",
       "<tr>\n",
       "  <th>No. Observations:</th>      <td>   103</td>      <th>  AIC:               </th> <td>   1409.</td>\n",
       "</tr>\n",
       "<tr>\n",
       "  <th>Df Residuals:</th>          <td>   101</td>      <th>  BIC:               </th> <td>   1414.</td>\n",
       "</tr>\n",
       "<tr>\n",
       "  <th>Df Model:</th>              <td>     1</td>      <th>                     </th>     <td> </td>   \n",
       "</tr>\n",
       "<tr>\n",
       "  <th>Covariance Type:</th>      <td>nonrobust</td>    <th>                     </th>     <td> </td>   \n",
       "</tr>\n",
       "</table>\n",
       "<table class=\"simpletable\">\n",
       "<tr>\n",
       "      <td></td>         <th>coef</th>     <th>std err</th>      <th>t</th>      <th>P>|t|</th>  <th>[0.025</th>    <th>0.975]</th>  \n",
       "</tr>\n",
       "<tr>\n",
       "  <th>Intercept</th> <td>  351.0600</td> <td>   31.602</td> <td>   11.109</td> <td> 0.000</td> <td>  288.369</td> <td>  413.751</td>\n",
       "</tr>\n",
       "<tr>\n",
       "  <th>lithology</th> <td> -204.4619</td> <td>   44.056</td> <td>   -4.641</td> <td> 0.000</td> <td> -291.856</td> <td> -117.067</td>\n",
       "</tr>\n",
       "</table>\n",
       "<table class=\"simpletable\">\n",
       "<tr>\n",
       "  <th>Omnibus:</th>       <td>47.915</td> <th>  Durbin-Watson:     </th> <td>   1.438</td>\n",
       "</tr>\n",
       "<tr>\n",
       "  <th>Prob(Omnibus):</th> <td> 0.000</td> <th>  Jarque-Bera (JB):  </th> <td> 147.286</td>\n",
       "</tr>\n",
       "<tr>\n",
       "  <th>Skew:</th>          <td> 1.643</td> <th>  Prob(JB):          </th> <td>1.04e-32</td>\n",
       "</tr>\n",
       "<tr>\n",
       "  <th>Kurtosis:</th>      <td> 7.850</td> <th>  Cond. No.          </th> <td>    2.65</td>\n",
       "</tr>\n",
       "</table><br/><br/>Notes:<br/>[1] Standard Errors assume that the covariance matrix of the errors is correctly specified."
      ],
      "text/plain": [
       "<class 'statsmodels.iolib.summary.Summary'>\n",
       "\"\"\"\n",
       "                            OLS Regression Results                            \n",
       "==============================================================================\n",
       "Dep. Variable:                 Ni_ppm   R-squared:                       0.176\n",
       "Model:                            OLS   Adj. R-squared:                  0.168\n",
       "Method:                 Least Squares   F-statistic:                     21.54\n",
       "Date:                Tue, 13 Feb 2024   Prob (F-statistic):           1.04e-05\n",
       "Time:                        00:21:14   Log-Likelihood:                -702.29\n",
       "No. Observations:                 103   AIC:                             1409.\n",
       "Df Residuals:                     101   BIC:                             1414.\n",
       "Df Model:                           1                                         \n",
       "Covariance Type:            nonrobust                                         \n",
       "==============================================================================\n",
       "                 coef    std err          t      P>|t|      [0.025      0.975]\n",
       "------------------------------------------------------------------------------\n",
       "Intercept    351.0600     31.602     11.109      0.000     288.369     413.751\n",
       "lithology   -204.4619     44.056     -4.641      0.000    -291.856    -117.067\n",
       "==============================================================================\n",
       "Omnibus:                       47.915   Durbin-Watson:                   1.438\n",
       "Prob(Omnibus):                  0.000   Jarque-Bera (JB):              147.286\n",
       "Skew:                           1.643   Prob(JB):                     1.04e-32\n",
       "Kurtosis:                       7.850   Cond. No.                         2.65\n",
       "==============================================================================\n",
       "\n",
       "Notes:\n",
       "[1] Standard Errors assume that the covariance matrix of the errors is correctly specified.\n",
       "\"\"\""
      ]
     },
     "execution_count": 791,
     "metadata": {},
     "output_type": "execute_result"
    }
   ],
   "source": [
    "from statsmodels.formula.api import ols\n",
    "\n",
    "model = ols('Ni_ppm ~ lithology', data=df_subset)\n",
    "fitted_model = model.fit()\n",
    "fitted_model.summary()"
   ]
  },
  {
   "cell_type": "markdown",
   "id": "cf2f0915",
   "metadata": {},
   "source": [
    "## Geospatial Analysis"
   ]
  },
  {
   "cell_type": "code",
   "execution_count": 691,
   "id": "a7cf6155",
   "metadata": {},
   "outputs": [
    {
     "ename": "ModuleNotFoundError",
     "evalue": "No module named 'geopandas'",
     "output_type": "error",
     "traceback": [
      "\u001b[1;31m---------------------------------------------------------------------------\u001b[0m",
      "\u001b[1;31mModuleNotFoundError\u001b[0m                       Traceback (most recent call last)",
      "\u001b[1;32m<ipython-input-691-a62d01c1d62e>\u001b[0m in \u001b[0;36m<module>\u001b[1;34m\u001b[0m\n\u001b[1;32m----> 1\u001b[1;33m \u001b[1;32mimport\u001b[0m \u001b[0mgeopandas\u001b[0m \u001b[1;32mas\u001b[0m \u001b[0mgpd\u001b[0m\u001b[1;33m\u001b[0m\u001b[1;33m\u001b[0m\u001b[0m\n\u001b[0m",
      "\u001b[1;31mModuleNotFoundError\u001b[0m: No module named 'geopandas'"
     ]
    }
   ],
   "source": [
    "import geopandas as gpd"
   ]
  },
  {
   "cell_type": "markdown",
   "id": "d490c9cf",
   "metadata": {},
   "source": [
    "Is the following necessary to do analysis? Do we need to convert NA values to zero?"
   ]
  },
  {
   "cell_type": "code",
   "execution_count": 338,
   "id": "f207265f",
   "metadata": {},
   "outputs": [],
   "source": [
    "df.Co_ppm.fillna(value = 0, inplace = True) # change NA values in \"Cobalt\" column to zero integer vale\n",
    "df.Cu_ppm.fillna(value = 0, inplace = True) # change NA values in \"Copper\" column to zero integer vale\n",
    "df.Ni_ppm.fillna(value = 0, inplace = True) # change NA values in \"Nickel\" column to zero integer vale"
   ]
  }
 ],
 "metadata": {
  "kernelspec": {
   "display_name": "Python 3",
   "language": "python",
   "name": "python3"
  },
  "language_info": {
   "codemirror_mode": {
    "name": "ipython",
    "version": 3
   },
   "file_extension": ".py",
   "mimetype": "text/x-python",
   "name": "python",
   "nbconvert_exporter": "python",
   "pygments_lexer": "ipython3",
   "version": "3.8.8"
  }
 },
 "nbformat": 4,
 "nbformat_minor": 5
}
