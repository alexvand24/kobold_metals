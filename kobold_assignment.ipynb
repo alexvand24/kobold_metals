{
 "cells": [
  {
   "cell_type": "markdown",
   "id": "7e55eea6",
   "metadata": {},
   "source": [
    "# ADS Take Home Assignment"
   ]
  },
  {
   "cell_type": "markdown",
   "id": "45a4e3fc",
   "metadata": {},
   "source": [
    "## Alex Vand - February 2024"
   ]
  },
  {
   "cell_type": "markdown",
   "id": "a5a1d50d",
   "metadata": {},
   "source": [
    "## Table of Contents\n",
    "\n",
    "[1. Purpose of Assignment](#purpose)\n",
    "[2. Data Cleaning](#cleaning)\n",
    "[3. Comparing Lithologies](#lithology)\n",
    "[4. Geospatial Analysis](#mapping)"
   ]
  },
  {
   "cell_type": "markdown",
   "id": "270672ad",
   "metadata": {},
   "source": [
    "### Purpose of Assignment"
   ]
  },
  {
   "cell_type": "markdown",
   "id": "a821da3e",
   "metadata": {},
   "source": [
    "The goal of this assignment is to QA/QC, analyze, and draw insights from geologic data."
   ]
  },
  {
   "cell_type": "markdown",
   "id": "54f49ad5",
   "metadata": {},
   "source": [
    "First, import the necessary packages to complete the assignment."
   ]
  },
  {
   "cell_type": "code",
   "execution_count": 1,
   "id": "58fdbc08",
   "metadata": {},
   "outputs": [],
   "source": [
    "import pandas as pd # package for data analysis\n",
    "import numpy as np # package used for \"replace\" -- is this used otherwise?"
   ]
  },
  {
   "cell_type": "code",
   "execution_count": 2,
   "id": "09319798",
   "metadata": {},
   "outputs": [],
   "source": [
    "from matplotlib import pyplot as plt # package used for data visualization -- is this package used/ needed?"
   ]
  },
  {
   "cell_type": "markdown",
   "id": "1a828167",
   "metadata": {},
   "source": [
    "Next, read in the raw dataframe."
   ]
  },
  {
   "cell_type": "code",
   "execution_count": 3,
   "id": "45d13ef8",
   "metadata": {},
   "outputs": [],
   "source": [
    "df = pd.read_csv(\"kobold_data\\ADS_Exercise_data\\MN_geochem_ads.csv\") # read in the raw dataframe"
   ]
  },
  {
   "cell_type": "markdown",
   "id": "7aa0abb1",
   "metadata": {},
   "source": [
    "The following code chunk displays exploratory information about the dataframe."
   ]
  },
  {
   "cell_type": "code",
   "execution_count": 4,
   "id": "b634579c",
   "metadata": {
    "scrolled": true
   },
   "outputs": [
    {
     "name": "stdout",
     "output_type": "stream",
     "text": [
      "<class 'pandas.core.frame.DataFrame'>\n",
      "RangeIndex: 305 entries, 0 to 304\n",
      "Data columns (total 11 columns):\n",
      " #   Column          Non-Null Count  Dtype  \n",
      "---  ------          --------------  -----  \n",
      " 0   sample          305 non-null    int64  \n",
      " 1   medium          305 non-null    object \n",
      " 2   easting_wgs84   305 non-null    float64\n",
      " 3   northing_wgs84  304 non-null    float64\n",
      " 4   date_assay      305 non-null    object \n",
      " 5   company         305 non-null    object \n",
      " 6   structure       110 non-null    object \n",
      " 7   lithology       289 non-null    object \n",
      " 8   Co_ppm          302 non-null    float64\n",
      " 9   Cu_ppm          242 non-null    float64\n",
      " 10  Ni_ppm          305 non-null    object \n",
      "dtypes: float64(4), int64(1), object(6)\n",
      "memory usage: 127.1 KB\n"
     ]
    }
   ],
   "source": [
    "df.info(memory_usage='deep') # view basic exploratory information about the dataframe including column names and data types\n",
    "# 'deep' does a real calclulation of the memory usage, instead of estimated"
   ]
  },
  {
   "cell_type": "markdown",
   "id": "7aadd7b0",
   "metadata": {},
   "source": [
    "This rawa dataset contains 11 columns (variables of interest) and 305 rows (observations or potential mining locations). Additionally, there are both numerical (float64 and int64) and string (object) data types."
   ]
  },
  {
   "cell_type": "markdown",
   "id": "a454770b",
   "metadata": {},
   "source": [
    "As shown in the output above under \"Non-Null Count\", several variables contain less than 305 non-null entries. This indicates there are several null, NA, or blank variables that must be accounted for."
   ]
  },
  {
   "cell_type": "markdown",
   "id": "ad682af4",
   "metadata": {},
   "source": [
    "The first task of this assignment is to clean the raw dataset so that later we can perform statistical and geospatial analysis."
   ]
  },
  {
   "cell_type": "markdown",
   "id": "fa59977d",
   "metadata": {},
   "source": [
    "# Data Cleaning"
   ]
  },
  {
   "cell_type": "markdown",
   "id": "2cc08e95",
   "metadata": {},
   "source": [
    "To clean this dataset: (1) duplicate values must be removed; (2) any incorrect data points must be fixed; and (3) NA values must be addressed. Various programmatical tests, as well as general data exploration, will be incorporated to determine if any data points were inputted in error."
   ]
  },
  {
   "cell_type": "markdown",
   "id": "401091ea",
   "metadata": {},
   "source": [
    "## Duplicates"
   ]
  },
  {
   "cell_type": "markdown",
   "id": "5220a9e6",
   "metadata": {},
   "source": [
    "The \"sample\" ID column is the unique key to identify each data point. Therefore, we can use this column to search for any duplicate entries in the data set and delete those rows. The code belows displays all the duplicate values. There are 7 total data points from the raw dataset that have duplicate sample numbers."
   ]
  },
  {
   "cell_type": "code",
   "execution_count": 5,
   "id": "f3fe3bd6",
   "metadata": {},
   "outputs": [
    {
     "data": {
      "text/html": [
       "<div>\n",
       "<style scoped>\n",
       "    .dataframe tbody tr th:only-of-type {\n",
       "        vertical-align: middle;\n",
       "    }\n",
       "\n",
       "    .dataframe tbody tr th {\n",
       "        vertical-align: top;\n",
       "    }\n",
       "\n",
       "    .dataframe thead th {\n",
       "        text-align: right;\n",
       "    }\n",
       "</style>\n",
       "<table border=\"1\" class=\"dataframe\">\n",
       "  <thead>\n",
       "    <tr style=\"text-align: right;\">\n",
       "      <th></th>\n",
       "      <th>sample</th>\n",
       "      <th>medium</th>\n",
       "      <th>easting_wgs84</th>\n",
       "      <th>northing_wgs84</th>\n",
       "      <th>date_assay</th>\n",
       "      <th>company</th>\n",
       "      <th>structure</th>\n",
       "      <th>lithology</th>\n",
       "      <th>Co_ppm</th>\n",
       "      <th>Cu_ppm</th>\n",
       "      <th>Ni_ppm</th>\n",
       "    </tr>\n",
       "  </thead>\n",
       "  <tbody>\n",
       "    <tr>\n",
       "      <th>223</th>\n",
       "      <td>9497291</td>\n",
       "      <td>rock_outcrop</td>\n",
       "      <td>-90.33333</td>\n",
       "      <td>48.00</td>\n",
       "      <td>3/20/89</td>\n",
       "      <td>united_states_geological_survey</td>\n",
       "      <td>lava flow</td>\n",
       "      <td>basaltt</td>\n",
       "      <td>42.0</td>\n",
       "      <td>100.0</td>\n",
       "      <td>41</td>\n",
       "    </tr>\n",
       "    <tr>\n",
       "      <th>233</th>\n",
       "      <td>9497345</td>\n",
       "      <td>rock_outcrop</td>\n",
       "      <td>-90.41667</td>\n",
       "      <td>47.75</td>\n",
       "      <td>4/5/89</td>\n",
       "      <td>united_states_geological_survey</td>\n",
       "      <td>lava flow</td>\n",
       "      <td>basalt.</td>\n",
       "      <td>59.0</td>\n",
       "      <td>83.0</td>\n",
       "      <td>172</td>\n",
       "    </tr>\n",
       "    <tr>\n",
       "      <th>300</th>\n",
       "      <td>9497345</td>\n",
       "      <td>rock_outcrop</td>\n",
       "      <td>-90.41667</td>\n",
       "      <td>47.75</td>\n",
       "      <td>4/5/89</td>\n",
       "      <td>united_states_geological_survey</td>\n",
       "      <td>lava flow</td>\n",
       "      <td>basalt</td>\n",
       "      <td>36.0</td>\n",
       "      <td>110.0</td>\n",
       "      <td>41</td>\n",
       "    </tr>\n",
       "    <tr>\n",
       "      <th>301</th>\n",
       "      <td>9497345</td>\n",
       "      <td>rock_outcrop</td>\n",
       "      <td>-90.41667</td>\n",
       "      <td>47.75</td>\n",
       "      <td>4/5/89</td>\n",
       "      <td>united_states_geological_survey</td>\n",
       "      <td>lava flow</td>\n",
       "      <td>basalt</td>\n",
       "      <td>52.0</td>\n",
       "      <td>58.0</td>\n",
       "      <td>242</td>\n",
       "    </tr>\n",
       "    <tr>\n",
       "      <th>302</th>\n",
       "      <td>9497291</td>\n",
       "      <td>rock_outcrop</td>\n",
       "      <td>-90.33333</td>\n",
       "      <td>48.00</td>\n",
       "      <td>3/20/89</td>\n",
       "      <td>united_states_geological_survey</td>\n",
       "      <td>lava flow</td>\n",
       "      <td>Basalt</td>\n",
       "      <td>42.0</td>\n",
       "      <td>100.0</td>\n",
       "      <td>41</td>\n",
       "    </tr>\n",
       "    <tr>\n",
       "      <th>303</th>\n",
       "      <td>9497291</td>\n",
       "      <td>rock_outcrop</td>\n",
       "      <td>-90.33333</td>\n",
       "      <td>48.00</td>\n",
       "      <td>3/20/89</td>\n",
       "      <td>united_states_geological_survey</td>\n",
       "      <td>lava flow</td>\n",
       "      <td>basalt</td>\n",
       "      <td>42.0</td>\n",
       "      <td>100.0</td>\n",
       "      <td>41</td>\n",
       "    </tr>\n",
       "    <tr>\n",
       "      <th>304</th>\n",
       "      <td>9497291</td>\n",
       "      <td>rock_outcrop</td>\n",
       "      <td>-90.33333</td>\n",
       "      <td>48.00</td>\n",
       "      <td>3/20/89</td>\n",
       "      <td>united_states_geological_survey</td>\n",
       "      <td>lava flow</td>\n",
       "      <td>basalt</td>\n",
       "      <td>42.0</td>\n",
       "      <td>100.0</td>\n",
       "      <td>41</td>\n",
       "    </tr>\n",
       "  </tbody>\n",
       "</table>\n",
       "</div>"
      ],
      "text/plain": [
       "      sample        medium  easting_wgs84  northing_wgs84 date_assay  \\\n",
       "223  9497291  rock_outcrop      -90.33333           48.00    3/20/89   \n",
       "233  9497345  rock_outcrop      -90.41667           47.75     4/5/89   \n",
       "300  9497345  rock_outcrop      -90.41667           47.75     4/5/89   \n",
       "301  9497345  rock_outcrop      -90.41667           47.75     4/5/89   \n",
       "302  9497291  rock_outcrop      -90.33333           48.00    3/20/89   \n",
       "303  9497291  rock_outcrop      -90.33333           48.00    3/20/89   \n",
       "304  9497291  rock_outcrop      -90.33333           48.00    3/20/89   \n",
       "\n",
       "                             company  structure lithology  Co_ppm  Cu_ppm  \\\n",
       "223  united_states_geological_survey  lava flow   basaltt    42.0   100.0   \n",
       "233  united_states_geological_survey  lava flow   basalt.    59.0    83.0   \n",
       "300  united_states_geological_survey  lava flow    basalt    36.0   110.0   \n",
       "301  united_states_geological_survey  lava flow    basalt    52.0    58.0   \n",
       "302  united_states_geological_survey  lava flow    Basalt    42.0   100.0   \n",
       "303  united_states_geological_survey  lava flow    basalt    42.0   100.0   \n",
       "304  united_states_geological_survey  lava flow    basalt    42.0   100.0   \n",
       "\n",
       "    Ni_ppm  \n",
       "223     41  \n",
       "233    172  \n",
       "300     41  \n",
       "301    242  \n",
       "302     41  \n",
       "303     41  \n",
       "304     41  "
      ]
     },
     "execution_count": 5,
     "metadata": {},
     "output_type": "execute_result"
    }
   ],
   "source": [
    "df[df.duplicated(['sample'], keep = False)] # \"keep = false\" displays all duplicates instead of ignoring the first or last"
   ]
  },
  {
   "cell_type": "markdown",
   "id": "1e784144",
   "metadata": {},
   "source": [
    "Sample 9497291 has all the same values, for all variables, for all 4 duplicate entries [indices 223, 302, 303, 304]. Therefore, we can delete all repeated duplicates and just keep the first entry, as is done in the code chunk below."
   ]
  },
  {
   "cell_type": "code",
   "execution_count": 6,
   "id": "b530e079",
   "metadata": {},
   "outputs": [
    {
     "data": {
      "text/plain": [
       "(302, 11)"
      ]
     },
     "execution_count": 6,
     "metadata": {},
     "output_type": "execute_result"
    }
   ],
   "source": [
    "# drops duplicate row across all variables and updates dataframe\n",
    "df.drop_duplicates(subset=['sample','Co_ppm','Cu_ppm','Ni_ppm'], keep='first', inplace=True)\n",
    "df.shape"
   ]
  },
  {
   "cell_type": "markdown",
   "id": "e349272c",
   "metadata": {},
   "source": [
    "The dataframe now has 302 rows, which means 3 repeated observations for sample 9497291 were deleted, as expected."
   ]
  },
  {
   "cell_type": "markdown",
   "id": "c87ae656",
   "metadata": {},
   "source": [
    "Sample 9497345, however, has different values for the metal concentrations for all 3 duplicate entries [indices 233, 300, 301]. This implies we cannot keep any of the 3 data points in our dataframe as we do not know which one is correct. If possible, we could refer to the metadata or ask the field team to answer any potential questions. Given the resources currently availalbe, we could consider taking the average value of the 3 duplicate data entries and including that number in our clean dataset. However the mineral concentration values are very different across these 3 duplicate entries, so for the sake of this exercise, these data points will be considered NA values, and will therefore be omitted. Alternatively, another potential option is to assign a new sample number or identifier to each of the duplicate samples that have different mineral concentration values. For example, indices 300 and 301 could be assigned new sample numbers and those data points could be included in the final clean dataset. Since these 3 data points have the same GPS coordinates, it is not logical to keep all three values for the same location."
   ]
  },
  {
   "cell_type": "code",
   "execution_count": 7,
   "id": "461f08f2",
   "metadata": {},
   "outputs": [
    {
     "data": {
      "text/plain": [
       "(299, 11)"
      ]
     },
     "execution_count": 7,
     "metadata": {},
     "output_type": "execute_result"
    }
   ],
   "source": [
    "# drops duplicate row across all variables and updates dataframe\n",
    "df.drop_duplicates(subset=['sample'], keep=False, inplace=True)\n",
    "df.shape"
   ]
  },
  {
   "cell_type": "markdown",
   "id": "4e2217e8",
   "metadata": {},
   "source": [
    "The dataframe now has 299 rows, which means the 3 observations for sample 9497345 were deleted, as expected."
   ]
  },
  {
   "cell_type": "markdown",
   "id": "379a2806",
   "metadata": {},
   "source": [
    "In the next section, we will visit some data entry errors and rectify the apparent mistakes and typos."
   ]
  },
  {
   "cell_type": "markdown",
   "id": "3d9a4d57",
   "metadata": {},
   "source": [
    "## Latitude and Longitude Errors"
   ]
  },
  {
   "cell_type": "markdown",
   "id": "1b02247e",
   "metadata": {},
   "source": [
    "There are several data points where the latitude (\"northing_wgs84\") and longitude (\"easting_wgs84\") are flipped and/or one of the values has the incorrect positive or negative sign. These data points must be corrected so they can be included in the calculations for spatial analysis. Below we see a map of all of our raw data points."
   ]
  },
  {
   "cell_type": "code",
   "execution_count": 8,
   "id": "3a696700",
   "metadata": {},
   "outputs": [
    {
     "data": {
      "text/plain": [
       "<matplotlib.collections.PathCollection at 0x29abd9bbfa0>"
      ]
     },
     "execution_count": 8,
     "metadata": {},
     "output_type": "execute_result"
    },
    {
     "data": {
      "image/png": "[encoded data removed]",
      "text/plain": [
       "<Figure size 640x480 with 1 Axes>"
      ]
     },
     "metadata": {},
     "output_type": "display_data"
    }
   ],
   "source": [
    "plt.scatter(df['easting_wgs84'], df['northing_wgs84'])"
   ]
  },
  {
   "cell_type": "markdown",
   "id": "4def95fc",
   "metadata": {},
   "source": [
    "At first glance, it looks like the data cover three distinct geographical regions. However, upon closer examination of the northing and easting data, it becomes apparent that some of these data points might have be inputted in the wrong column."
   ]
  },
  {
   "cell_type": "code",
   "execution_count": 9,
   "id": "171dab23",
   "metadata": {},
   "outputs": [
    {
     "name": "stdout",
     "output_type": "stream",
     "text": [
      "The range for 'easting_wgs84' is between -93.35 and 92.93611 degrees.\n"
     ]
    }
   ],
   "source": [
    "easting_min = df['easting_wgs84'].min()\n",
    "easting_max = df['easting_wgs84'].max()\n",
    "\n",
    "print(\"The range for 'easting_wgs84' is between\", easting_min, \"and\", easting_max, \"degrees.\")"
   ]
  },
  {
   "cell_type": "code",
   "execution_count": 10,
   "id": "5e2c2eea",
   "metadata": {},
   "outputs": [
    {
     "name": "stdout",
     "output_type": "stream",
     "text": [
      "The range for 'northing_wgs84' is between -93.2 and 48.66667 degrees.\n"
     ]
    }
   ],
   "source": [
    "northing_min = df['northing_wgs84'].min()\n",
    "northing_max = df['northing_wgs84'].max()\n",
    "\n",
    "print(\"The range for 'northing_wgs84' is between\", northing_min, \"and\", northing_max, \"degrees.\")"
   ]
  },
  {
   "cell_type": "markdown",
   "id": "35768a16",
   "metadata": {},
   "source": [
    "First we will swap any latitude (\"northing_wgs84\") and longitude (\"easting_wgs84\") points that appear to be in the opposite column. The following code chunk displays the data points where this switch must occur."
   ]
  },
  {
   "cell_type": "code",
   "execution_count": 11,
   "id": "a5c83e23",
   "metadata": {
    "scrolled": true
   },
   "outputs": [
    {
     "data": {
      "text/html": [
       "<div>\n",
       "<style scoped>\n",
       "    .dataframe tbody tr th:only-of-type {\n",
       "        vertical-align: middle;\n",
       "    }\n",
       "\n",
       "    .dataframe tbody tr th {\n",
       "        vertical-align: top;\n",
       "    }\n",
       "\n",
       "    .dataframe thead th {\n",
       "        text-align: right;\n",
       "    }\n",
       "</style>\n",
       "<table border=\"1\" class=\"dataframe\">\n",
       "  <thead>\n",
       "    <tr style=\"text-align: right;\">\n",
       "      <th></th>\n",
       "      <th>sample</th>\n",
       "      <th>medium</th>\n",
       "      <th>easting_wgs84</th>\n",
       "      <th>northing_wgs84</th>\n",
       "      <th>date_assay</th>\n",
       "      <th>company</th>\n",
       "      <th>structure</th>\n",
       "      <th>lithology</th>\n",
       "      <th>Co_ppm</th>\n",
       "      <th>Cu_ppm</th>\n",
       "      <th>Ni_ppm</th>\n",
       "    </tr>\n",
       "  </thead>\n",
       "  <tbody>\n",
       "    <tr>\n",
       "      <th>21</th>\n",
       "      <td>9177307</td>\n",
       "      <td>rock_outcrop</td>\n",
       "      <td>48.41581</td>\n",
       "      <td>-92.52700</td>\n",
       "      <td>11/6/01</td>\n",
       "      <td>united_states_geological_survey</td>\n",
       "      <td>pluton; stock</td>\n",
       "      <td>granite</td>\n",
       "      <td>3.0</td>\n",
       "      <td>4.0</td>\n",
       "      <td>&lt;1.5</td>\n",
       "    </tr>\n",
       "    <tr>\n",
       "      <th>70</th>\n",
       "      <td>9278672</td>\n",
       "      <td>rock_outcrop</td>\n",
       "      <td>48.63333</td>\n",
       "      <td>-93.20000</td>\n",
       "      <td>11/14/83</td>\n",
       "      <td>united_states_geological_survey</td>\n",
       "      <td>xenolith</td>\n",
       "      <td>diorite</td>\n",
       "      <td>66.0</td>\n",
       "      <td>43.0</td>\n",
       "      <td>640</td>\n",
       "    </tr>\n",
       "    <tr>\n",
       "      <th>161</th>\n",
       "      <td>9334348</td>\n",
       "      <td>rock</td>\n",
       "      <td>47.61861</td>\n",
       "      <td>-91.93222</td>\n",
       "      <td>1/2/88</td>\n",
       "      <td>united_states_geological_survey</td>\n",
       "      <td>NaN</td>\n",
       "      <td>gabbro</td>\n",
       "      <td>22.5</td>\n",
       "      <td>75.0</td>\n",
       "      <td>75</td>\n",
       "    </tr>\n",
       "  </tbody>\n",
       "</table>\n",
       "</div>"
      ],
      "text/plain": [
       "      sample        medium  easting_wgs84  northing_wgs84 date_assay  \\\n",
       "21   9177307  rock_outcrop       48.41581       -92.52700    11/6/01   \n",
       "70   9278672  rock_outcrop       48.63333       -93.20000   11/14/83   \n",
       "161  9334348          rock       47.61861       -91.93222     1/2/88   \n",
       "\n",
       "                             company      structure lithology  Co_ppm  Cu_ppm  \\\n",
       "21   united_states_geological_survey  pluton; stock   granite     3.0     4.0   \n",
       "70   united_states_geological_survey       xenolith   diorite    66.0    43.0   \n",
       "161  united_states_geological_survey            NaN    gabbro    22.5    75.0   \n",
       "\n",
       "    Ni_ppm  \n",
       "21    <1.5  \n",
       "70     640  \n",
       "161     75  "
      ]
     },
     "execution_count": 11,
     "metadata": {},
     "output_type": "execute_result"
    }
   ],
   "source": [
    "df.loc[(abs(df['easting_wgs84']) < 50)] # lists the data points where lat & long need to swap"
   ]
  },
  {
   "cell_type": "markdown",
   "id": "a7ee81a0",
   "metadata": {},
   "source": [
    "Next, we will update the dataset and actually switch the northing and easting values for all three data observations listed above."
   ]
  },
  {
   "cell_type": "code",
   "execution_count": 12,
   "id": "72a8c3cf",
   "metadata": {},
   "outputs": [],
   "source": [
    "df[['easting_wgs84','northing_wgs84']] = df[['northing_wgs84',\n",
    "                                             'easting_wgs84']].where(abs(df['easting_wgs84']) < 50,\n",
    "                                                                         df[['easting_wgs84','northing_wgs84']].values)"
   ]
  },
  {
   "cell_type": "markdown",
   "id": "de94fc0b",
   "metadata": {},
   "source": [
    "Here we multiply the absolute value of the easting value by -1 to make sure all the longitude values are negative and reflect the same geographic location in the Western Hemisphere."
   ]
  },
  {
   "cell_type": "code",
   "execution_count": 13,
   "id": "4c51b0f4",
   "metadata": {
    "scrolled": true
   },
   "outputs": [],
   "source": [
    "df['easting_wgs84'] = df['easting_wgs84'].apply(abs)*(-1) # ensures that all longitude values are negative (degrees west)"
   ]
  },
  {
   "cell_type": "markdown",
   "id": "1bd7b6cb",
   "metadata": {},
   "source": [
    "Below we find the absolute value of all northing values to make sure all the latitude values are positive and reflect the same geographic location in the Northern Hemisphere."
   ]
  },
  {
   "cell_type": "code",
   "execution_count": 14,
   "id": "1d028d00",
   "metadata": {},
   "outputs": [],
   "source": [
    "df['northing_wgs84'] = df['northing_wgs84'].apply(abs) # ensures that all latitude values are positive (degrees north)"
   ]
  },
  {
   "cell_type": "markdown",
   "id": "8be899e7",
   "metadata": {},
   "source": [
    "In the map below, using the updated dataframe, we see that all data points are relegated to the same geogaphical area in Canada."
   ]
  },
  {
   "cell_type": "code",
   "execution_count": 15,
   "id": "a120a236",
   "metadata": {},
   "outputs": [
    {
     "data": {
      "text/plain": [
       "<matplotlib.collections.PathCollection at 0x29abda89e50>"
      ]
     },
     "execution_count": 15,
     "metadata": {},
     "output_type": "execute_result"
    },
    {
     "data": {
      "image/png": "[encoded data removed]",
      "text/plain": [
       "<Figure size 640x480 with 1 Axes>"
      ]
     },
     "metadata": {},
     "output_type": "display_data"
    }
   ],
   "source": [
    "plt.scatter(df['easting_wgs84'], df['northing_wgs84'])"
   ]
  },
  {
   "cell_type": "markdown",
   "id": "7f07fbdb",
   "metadata": {},
   "source": [
    "## NA Values"
   ]
  },
  {
   "cell_type": "markdown",
   "id": "0230f73d",
   "metadata": {},
   "source": [
    "The following code chunk will display the current total number of null (blank) values in the raw dataset."
   ]
  },
  {
   "cell_type": "code",
   "execution_count": 16,
   "id": "5a56915b",
   "metadata": {
    "scrolled": true
   },
   "outputs": [
    {
     "name": "stdout",
     "output_type": "stream",
     "text": [
      "sample              0\n",
      "medium              0\n",
      "easting_wgs84       0\n",
      "northing_wgs84      1\n",
      "date_assay          0\n",
      "company             0\n",
      "structure         195\n",
      "lithology          16\n",
      "Co_ppm              3\n",
      "Cu_ppm             63\n",
      "Ni_ppm              0\n",
      "dtype: int64\n"
     ]
    }
   ],
   "source": [
    "print(df.isna().sum()) # counts the number of NA (null) values in each column"
   ]
  },
  {
   "cell_type": "markdown",
   "id": "3c664e99",
   "metadata": {},
   "source": [
    "Taking a closer look at the mineral concentration values, it becomes apparent that several data points must be fixed, updated, or assigned an NA value."
   ]
  },
  {
   "cell_type": "code",
   "execution_count": 17,
   "id": "cf6607e4",
   "metadata": {},
   "outputs": [
    {
     "name": "stdout",
     "output_type": "stream",
     "text": [
      "The range for cobalt is between -0.1 and 768.0 ppm.\n"
     ]
    }
   ],
   "source": [
    "cobalt_min = df['Co_ppm'].min()\n",
    "cobalt_max = df['Co_ppm'].max()\n",
    "\n",
    "print(\"The range for cobalt is between\", cobalt_min, \"and\", cobalt_max, \"ppm.\")"
   ]
  },
  {
   "cell_type": "markdown",
   "id": "11b95d94",
   "metadata": {},
   "source": [
    "For example, because these ranges of values represent mineral concentrations, negative values are nonsensical. We might make the choice to consider all negative values as NA; however, since the negative values included in this column are within a reasonable range if they were positive, we will convert these values to positive numbers in a later step and keep them for our future analysis."
   ]
  },
  {
   "cell_type": "code",
   "execution_count": 18,
   "id": "e3e51c97",
   "metadata": {},
   "outputs": [
    {
     "name": "stdout",
     "output_type": "stream",
     "text": [
      "The range for copper is between -99999.0 and 99999.0 ppm.\n"
     ]
    }
   ],
   "source": [
    "copper_min = df['Cu_ppm'].min()\n",
    "copper_max = df['Cu_ppm'].max()\n",
    "\n",
    "print(\"The range for copper is between\", copper_min, \"and\", copper_max, \"ppm.\")"
   ]
  },
  {
   "cell_type": "markdown",
   "id": "a8b53aac",
   "metadata": {},
   "source": [
    "Furthermore, here we see that the copper values include common NA identifiers such as -99999 and 99999. We must convert these values to NA, as is done in the code chunk below."
   ]
  },
  {
   "cell_type": "code",
   "execution_count": 19,
   "id": "61afeb84",
   "metadata": {},
   "outputs": [],
   "source": [
    "df[['Cu_ppm']] = df[['Cu_ppm']].mask(df[['Cu_ppm']] == abs(99999)) # changes 99999 values to NA"
   ]
  },
  {
   "cell_type": "code",
   "execution_count": 20,
   "id": "4a4850da",
   "metadata": {},
   "outputs": [
    {
     "name": "stdout",
     "output_type": "stream",
     "text": [
      "The range for nickel is between -1.25 and <1.5 ppm.\n"
     ]
    }
   ],
   "source": [
    "nickel_min = df['Ni_ppm'].min()\n",
    "nickel_max = df['Ni_ppm'].max()\n",
    "\n",
    "print(\"The range for nickel is between\", nickel_min, \"and\", nickel_max, \"ppm.\")"
   ]
  },
  {
   "cell_type": "markdown",
   "id": "61f033ee",
   "metadata": {},
   "source": [
    "Additionally, the nickel data column has a string (word) value listed for very low concentrations (\"<1.5\") instead of a number. One option to incorporate these data points with very low nickel concentration is to convert \"<1.5\" to an arbitrary numerical value by assigning a random low number that is less than 1.5. However, because too many assumptions must be made to justify assigning new values, these data points will be considered null and will be omitted from analysis, shown below."
   ]
  },
  {
   "cell_type": "code",
   "execution_count": 21,
   "id": "c0a7c2ce",
   "metadata": {},
   "outputs": [],
   "source": [
    "df[['Ni_ppm']] = df[['Ni_ppm']].mask(df[['Ni_ppm']] == \"<1.5\") # changes <1.5 values to NA\n",
    "df.Ni_ppm = df.Ni_ppm.astype(float) # converts data type to float so that absolute value function can be used in next code chunk"
   ]
  },
  {
   "cell_type": "markdown",
   "id": "fd35f413",
   "metadata": {},
   "source": [
    "Finally, now that several NA issues have been addressed, the code chunk below changes all mineral concentration values to be positive."
   ]
  },
  {
   "cell_type": "code",
   "execution_count": 22,
   "id": "cc3ec64e",
   "metadata": {},
   "outputs": [],
   "source": [
    "df[['Co_ppm','Cu_ppm','Ni_ppm']] = df[['Co_ppm','Cu_ppm','Ni_ppm']].apply(abs)"
   ]
  },
  {
   "cell_type": "markdown",
   "id": "5efc269c",
   "metadata": {},
   "source": [
    "Notice that the total count of NA values has increased, as is shown in the output below. Cu_ppm gained 2 NA datapoints (previously 99999 and -99999) and Ni_ppm gained 6 NA data points (previoysly \"<1.5\")."
   ]
  },
  {
   "cell_type": "code",
   "execution_count": 23,
   "id": "b87b14fa",
   "metadata": {
    "scrolled": true
   },
   "outputs": [
    {
     "name": "stdout",
     "output_type": "stream",
     "text": [
      "sample              0\n",
      "medium              0\n",
      "easting_wgs84       0\n",
      "northing_wgs84      1\n",
      "date_assay          0\n",
      "company             0\n",
      "structure         195\n",
      "lithology          16\n",
      "Co_ppm              3\n",
      "Cu_ppm             64\n",
      "Ni_ppm              6\n",
      "dtype: int64\n"
     ]
    }
   ],
   "source": [
    "print(df.isna().sum()) # counts the number of NA (null) values in each column"
   ]
  },
  {
   "cell_type": "markdown",
   "id": "513a42ae",
   "metadata": {},
   "source": [
    "## Fixing Lithology Data Entry Typos"
   ]
  },
  {
   "cell_type": "markdown",
   "id": "9c70cf4e",
   "metadata": {},
   "source": [
    "Next, let's investigate the values for the categorical variables \"structure\" and \"lithology\"."
   ]
  },
  {
   "cell_type": "markdown",
   "id": "0096d758",
   "metadata": {},
   "source": [
    "First, we fill in all blank lithology data points with the word \"unknown\" so that we can systematically address any typos across the lithology variable."
   ]
  },
  {
   "cell_type": "code",
   "execution_count": 24,
   "id": "90126ed9",
   "metadata": {},
   "outputs": [],
   "source": [
    "df.lithology.fillna(value = \"unknown\", inplace = True) # change NA values in \"Lithology\" column to \"unknown\" string"
   ]
  },
  {
   "cell_type": "markdown",
   "id": "1e1c7de0",
   "metadata": {},
   "source": [
    "The same can be done for the \"Structure\" variable, but it is worth mentioning that a blank data point or value does not necessarily indicate an \"unknown\" value. However, in order to use certain functions that allow the manipulation of these data columns, we must convert the NA values to a string value (hence \"unknown\" has been chosen here)."
   ]
  },
  {
   "cell_type": "code",
   "execution_count": 25,
   "id": "74c54b70",
   "metadata": {},
   "outputs": [],
   "source": [
    "df.structure.fillna(value = \"unknown\", inplace = True) # change NA values in \"Structure\" column to \"unknown\" string"
   ]
  },
  {
   "cell_type": "code",
   "execution_count": 26,
   "id": "54997d49",
   "metadata": {},
   "outputs": [
    {
     "data": {
      "text/plain": [
       "array(['Basalt', 'CHERT', 'DACITE', 'GABBRO', 'GRAYWACKE', 'andesite',\n",
       "       'argillite', 'basalt', 'basalt.', 'basaltt', 'bassalt', 'dacite',\n",
       "       'diorite', 'felsic', 'gabbro', 'gabro', 'granite', 'granodiorite',\n",
       "       'greenstone', 'hornfels', 'meta-andesite', 'meta-graywacke',\n",
       "       'metafelsite', 'metagraywacke', 'metasediment', 'metasiltstone',\n",
       "       'monzonite', 'none', 'pegmatite', 'rhyolite', 'sandstone',\n",
       "       'schist', 'shale', 'siliciclastic', 'tuff', 'unknown'],\n",
       "      dtype=object)"
      ]
     },
     "execution_count": 26,
     "metadata": {},
     "output_type": "execute_result"
    }
   ],
   "source": [
    "np.unique(df['lithology']) # this only works after using fillna function to add \"unknown\" string"
   ]
  },
  {
   "cell_type": "markdown",
   "id": "5c3f3709",
   "metadata": {},
   "source": [
    "From viewing all possible values for lithology above, we can see that there are several data entry mistakes. We need each of these values to be consistent so that they will be appropriately accounted for during analysis. In order to create consistency across the entire variable, the following code chunk changes all lithology types to lower case letters."
   ]
  },
  {
   "cell_type": "code",
   "execution_count": 27,
   "id": "ebae7773",
   "metadata": {},
   "outputs": [],
   "source": [
    "df.lithology = df.lithology.str.lower() # change all lithology types to lower case letters for uniformity"
   ]
  },
  {
   "cell_type": "markdown",
   "id": "2efd2a65",
   "metadata": {},
   "source": [
    "The following code chunks replace all typos in the dataset for the different lithologies. Another option to address the various typos is to write a function using an if-statement that includes all of the below code chunks and ??????? how to do advanced string search??? "
   ]
  },
  {
   "cell_type": "code",
   "execution_count": 28,
   "id": "b272c343",
   "metadata": {},
   "outputs": [],
   "source": [
    "df.lithology.replace(('Basalt','basalt.','bassalt','basaltt'), 'basalt', inplace = True) # fix all \"basalt\" typos"
   ]
  },
  {
   "cell_type": "code",
   "execution_count": 29,
   "id": "84577138",
   "metadata": {},
   "outputs": [],
   "source": [
    "df.lithology.replace(('GABBRO', 'gabro'), 'gabbro', inplace = True) # fix all \"gabbro\" typos"
   ]
  },
  {
   "cell_type": "code",
   "execution_count": 30,
   "id": "e1d5b5d2",
   "metadata": {},
   "outputs": [],
   "source": [
    "df.lithology.replace('meta-andesite', 'metaandesite', inplace = True) # delete the dash for consistency in lithology names"
   ]
  },
  {
   "cell_type": "code",
   "execution_count": 31,
   "id": "3effcbf0",
   "metadata": {},
   "outputs": [],
   "source": [
    "df.lithology.replace('meta-graywacke', 'metagraywacke', inplace = True) # delete the dash for consistency in lithology names"
   ]
  },
  {
   "cell_type": "code",
   "execution_count": 32,
   "id": "6e72e3c6",
   "metadata": {},
   "outputs": [],
   "source": [
    "df.lithology.replace('none', 'unknown', inplace = True) # change \"none\" to \"unknown\" for consistency"
   ]
  },
  {
   "cell_type": "markdown",
   "id": "e2ffae01",
   "metadata": {},
   "source": [
    "After addressing the various typos, all lithology values are consistent and there are no longer any repeat categories. "
   ]
  },
  {
   "cell_type": "code",
   "execution_count": 33,
   "id": "350ff519",
   "metadata": {
    "scrolled": true
   },
   "outputs": [
    {
     "data": {
      "text/plain": [
       "array(['andesite', 'argillite', 'basalt', 'chert', 'dacite', 'diorite',\n",
       "       'felsic', 'gabbro', 'granite', 'granodiorite', 'graywacke',\n",
       "       'greenstone', 'hornfels', 'metaandesite', 'metafelsite',\n",
       "       'metagraywacke', 'metasediment', 'metasiltstone', 'monzonite',\n",
       "       'pegmatite', 'rhyolite', 'sandstone', 'schist', 'shale',\n",
       "       'siliciclastic', 'tuff', 'unknown'], dtype=object)"
      ]
     },
     "execution_count": 33,
     "metadata": {},
     "output_type": "execute_result"
    }
   ],
   "source": [
    "np.unique(df['lithology']) # this only works after using fillna function to add \"unknown\" string"
   ]
  },
  {
   "cell_type": "markdown",
   "id": "739204df",
   "metadata": {},
   "source": [
    "# Comparing Basalt and Gabbro"
   ]
  },
  {
   "cell_type": "markdown",
   "id": "46b7747f",
   "metadata": {},
   "source": [
    "In this section, we are interested in determining whether basalt or gabbro is more prosperous when minig for cobalt and nickel. In order to perform this statistical analysis, first, we will subset the clean dataframe to include only lithologies with basalt and gabbro."
   ]
  },
  {
   "cell_type": "code",
   "execution_count": 34,
   "id": "a39b4c35",
   "metadata": {},
   "outputs": [
    {
     "name": "stdout",
     "output_type": "stream",
     "text": [
      "(97, 11)\n"
     ]
    }
   ],
   "source": [
    "df_subset = df[df[\"lithology\"].isin([\"basalt\", 'gabbro'])] # should contain 103 rows\n",
    "print(df_subset.shape)"
   ]
  },
  {
   "cell_type": "markdown",
   "id": "a273fdf4",
   "metadata": {},
   "source": [
    "This new subsetted dataframe has 103 rows. In order to perform OLS regression, we need to assign dummy variables to our categorical (in this case, binary) variable of interest (\"lithology\"). Basalt is assigned the value of 1 (or True) and Gabbro is assigned 0 (or False)."
   ]
  },
  {
   "cell_type": "code",
   "execution_count": 35,
   "id": "32564e3d",
   "metadata": {},
   "outputs": [
    {
     "name": "stderr",
     "output_type": "stream",
     "text": [
      "C:\\Users\\ALEXVA~1\\AppData\\Local\\Temp/ipykernel_25056/3585271158.py:1: SettingWithCopyWarning: \n",
      "A value is trying to be set on a copy of a slice from a DataFrame\n",
      "\n",
      "See the caveats in the documentation: https://pandas.pydata.org/pandas-docs/stable/user_guide/indexing.html#returning-a-view-versus-a-copy\n",
      "  df_subset.lithology.replace(\"basalt\", 1, inplace = True)\n",
      "C:\\Users\\ALEXVA~1\\AppData\\Local\\Temp/ipykernel_25056/3585271158.py:2: SettingWithCopyWarning: \n",
      "A value is trying to be set on a copy of a slice from a DataFrame\n",
      "\n",
      "See the caveats in the documentation: https://pandas.pydata.org/pandas-docs/stable/user_guide/indexing.html#returning-a-view-versus-a-copy\n",
      "  df_subset.lithology.replace(\"gabbro\", 0, inplace = True)\n"
     ]
    }
   ],
   "source": [
    "df_subset.lithology.replace(\"basalt\", 1, inplace = True)\n",
    "df_subset.lithology.replace(\"gabbro\", 0, inplace = True)"
   ]
  },
  {
   "cell_type": "code",
   "execution_count": 36,
   "id": "d125eab7",
   "metadata": {},
   "outputs": [
    {
     "data": {
      "text/plain": [
       "array([0, 1], dtype=int64)"
      ]
     },
     "execution_count": 36,
     "metadata": {},
     "output_type": "execute_result"
    }
   ],
   "source": [
    "df_subset.lithology.unique() # maybe don't need this code chunk"
   ]
  },
  {
   "cell_type": "code",
   "execution_count": 37,
   "id": "f7c7b0d9",
   "metadata": {},
   "outputs": [
    {
     "data": {
      "text/plain": [
       "Text(0, 0.5, 'Frequency')"
      ]
     },
     "execution_count": 37,
     "metadata": {},
     "output_type": "execute_result"
    },
    {
     "data": {
      "image/png": "[encoded data removed]",
      "text/plain": [
       "<Figure size 1000x700 with 1 Axes>"
      ]
     },
     "metadata": {},
     "output_type": "display_data"
    }
   ],
   "source": [
    "df_subset.Co_ppm.plot(kind='hist', color='blue', edgecolor='black', alpha = 0.5, figsize=(10,7))\n",
    "\n",
    "plt.title('Distribution of Cobalt', size=24)\n",
    "plt.xlabel('Cobalt Concentration (ppm)', size=18)\n",
    "plt.ylabel('Frequency', size=18)"
   ]
  },
  {
   "cell_type": "code",
   "execution_count": 38,
   "id": "d281dab1",
   "metadata": {},
   "outputs": [
    {
     "data": {
      "text/plain": [
       "Text(0, 0.5, 'Frequency')"
      ]
     },
     "execution_count": 38,
     "metadata": {},
     "output_type": "execute_result"
    },
    {
     "data": {
      "image/png": "[encoded data removed]",
      "text/plain": [
       "<Figure size 1000x700 with 1 Axes>"
      ]
     },
     "metadata": {},
     "output_type": "display_data"
    }
   ],
   "source": [
    "df_subset.Ni_ppm.plot(kind='hist', color='red', edgecolor='black', alpha = 0.5, figsize=(10,7))\n",
    "\n",
    "plt.title('Distribution of Nickel', size=24)\n",
    "plt.xlabel('Nickel Concentration (ppm)', size=18)\n",
    "plt.ylabel('Frequency', size=18)"
   ]
  },
  {
   "cell_type": "markdown",
   "id": "0c5ed921",
   "metadata": {},
   "source": [
    "Because the distributions look somewhat normal (actually they are right skewed - should do a log transformation?), we can do an OLS (ordinary least squares) regression analysis to determine which lithology is more prospective / which lithology better predicts of high concentrations of Cobalt and Nickel ..."
   ]
  },
  {
   "cell_type": "code",
   "execution_count": 39,
   "id": "91fe4a66",
   "metadata": {},
   "outputs": [
    {
     "name": "stdout",
     "output_type": "stream",
     "text": [
      "152.55000000000004\n",
      "[-100.1293617]\n"
     ]
    }
   ],
   "source": [
    "from sklearn.linear_model import LinearRegression\n",
    "\n",
    "# create linear regression object\n",
    "mlr = LinearRegression()\n",
    "\n",
    "# fit linear regression\n",
    "mlr.fit(df_subset[['lithology']], df_subset['Co_ppm'])\n",
    "\n",
    "# get the slope and intercept of the line best fit.\n",
    "print(mlr.intercept_)\n",
    "# -244.92350252069903\n",
    "\n",
    "print(mlr.coef_)\n",
    "# [ 5.97694123 19.37771052]"
   ]
  },
  {
   "cell_type": "markdown",
   "id": "d76f834a",
   "metadata": {},
   "source": [
    "For both cobalt and nickel the mrl.coefficient (slope) is a negative value, meaning when basalt (lithology = 1) is accounted for, the average mineral concentration value decreases. This implies that gabbro lithology is more prospective. The p-value is low very close to zero so these values are statistically significant."
   ]
  },
  {
   "cell_type": "code",
   "execution_count": 42,
   "id": "5f0a1b45",
   "metadata": {},
   "outputs": [
    {
     "ename": "ModuleNotFoundError",
     "evalue": "No module named 'statsmodels'",
     "output_type": "error",
     "traceback": [
      "\u001b[1;31m---------------------------------------------------------------------------\u001b[0m",
      "\u001b[1;31mModuleNotFoundError\u001b[0m                       Traceback (most recent call last)",
      "\u001b[1;32mC:\\Users\\ALEXVA~1\\AppData\\Local\\Temp/ipykernel_25056/451060137.py\u001b[0m in \u001b[0;36m<module>\u001b[1;34m\u001b[0m\n\u001b[1;32m----> 1\u001b[1;33m \u001b[1;32mfrom\u001b[0m \u001b[0mstatsmodels\u001b[0m\u001b[1;33m.\u001b[0m\u001b[0mformula\u001b[0m\u001b[1;33m.\u001b[0m\u001b[0mapi\u001b[0m \u001b[1;32mimport\u001b[0m \u001b[0mols\u001b[0m\u001b[1;33m\u001b[0m\u001b[1;33m\u001b[0m\u001b[0m\n\u001b[0m\u001b[0;32m      2\u001b[0m \u001b[1;33m\u001b[0m\u001b[0m\n\u001b[0;32m      3\u001b[0m \u001b[0mmodel\u001b[0m \u001b[1;33m=\u001b[0m \u001b[0mols\u001b[0m\u001b[1;33m(\u001b[0m\u001b[1;34m'Co_ppm ~ lithology'\u001b[0m\u001b[1;33m,\u001b[0m \u001b[0mdata\u001b[0m\u001b[1;33m=\u001b[0m\u001b[0mdf_subset\u001b[0m\u001b[1;33m)\u001b[0m\u001b[1;33m\u001b[0m\u001b[1;33m\u001b[0m\u001b[0m\n\u001b[0;32m      4\u001b[0m \u001b[0mfitted_model\u001b[0m \u001b[1;33m=\u001b[0m \u001b[0mmodel\u001b[0m\u001b[1;33m.\u001b[0m\u001b[0mfit\u001b[0m\u001b[1;33m(\u001b[0m\u001b[1;33m)\u001b[0m\u001b[1;33m\u001b[0m\u001b[1;33m\u001b[0m\u001b[0m\n\u001b[0;32m      5\u001b[0m \u001b[0mfitted_model\u001b[0m\u001b[1;33m.\u001b[0m\u001b[0msummary\u001b[0m\u001b[1;33m(\u001b[0m\u001b[1;33m)\u001b[0m\u001b[1;33m\u001b[0m\u001b[1;33m\u001b[0m\u001b[0m\n",
      "\u001b[1;31mModuleNotFoundError\u001b[0m: No module named 'statsmodels'"
     ]
    }
   ],
   "source": [
    "from statsmodels.formula.api import ols\n",
    "\n",
    "model = ols('Co_ppm ~ lithology', data=df_subset)\n",
    "fitted_model = model.fit()\n",
    "fitted_model.summary()"
   ]
  },
  {
   "cell_type": "code",
   "execution_count": 2,
   "id": "2d856cea",
   "metadata": {},
   "outputs": [
    {
     "ename": "ModuleNotFoundError",
     "evalue": "No module named 'statsmodels'",
     "output_type": "error",
     "traceback": [
      "\u001b[1;31m---------------------------------------------------------------------------\u001b[0m",
      "\u001b[1;31mModuleNotFoundError\u001b[0m                       Traceback (most recent call last)",
      "\u001b[1;32mC:\\Users\\ALEXVA~1\\AppData\\Local\\Temp/ipykernel_23064/2067328862.py\u001b[0m in \u001b[0;36m<module>\u001b[1;34m\u001b[0m\n\u001b[1;32m----> 1\u001b[1;33m \u001b[1;32mfrom\u001b[0m \u001b[0mstatsmodels\u001b[0m\u001b[1;33m.\u001b[0m\u001b[0mformula\u001b[0m\u001b[1;33m.\u001b[0m\u001b[0mapi\u001b[0m \u001b[1;32mimport\u001b[0m \u001b[0mols\u001b[0m\u001b[1;33m\u001b[0m\u001b[1;33m\u001b[0m\u001b[0m\n\u001b[0m\u001b[0;32m      2\u001b[0m \u001b[1;33m\u001b[0m\u001b[0m\n\u001b[0;32m      3\u001b[0m \u001b[0mmodel\u001b[0m \u001b[1;33m=\u001b[0m \u001b[0mols\u001b[0m\u001b[1;33m(\u001b[0m\u001b[1;34m'Ni_ppm ~ lithology'\u001b[0m\u001b[1;33m,\u001b[0m \u001b[0mdata\u001b[0m\u001b[1;33m=\u001b[0m\u001b[0mdf_subset\u001b[0m\u001b[1;33m)\u001b[0m\u001b[1;33m\u001b[0m\u001b[1;33m\u001b[0m\u001b[0m\n\u001b[0;32m      4\u001b[0m \u001b[0mfitted_model\u001b[0m \u001b[1;33m=\u001b[0m \u001b[0mmodel\u001b[0m\u001b[1;33m.\u001b[0m\u001b[0mfit\u001b[0m\u001b[1;33m(\u001b[0m\u001b[1;33m)\u001b[0m\u001b[1;33m\u001b[0m\u001b[1;33m\u001b[0m\u001b[0m\n\u001b[0;32m      5\u001b[0m \u001b[0mfitted_model\u001b[0m\u001b[1;33m.\u001b[0m\u001b[0msummary\u001b[0m\u001b[1;33m(\u001b[0m\u001b[1;33m)\u001b[0m\u001b[1;33m\u001b[0m\u001b[1;33m\u001b[0m\u001b[0m\n",
      "\u001b[1;31mModuleNotFoundError\u001b[0m: No module named 'statsmodels'"
     ]
    }
   ],
   "source": [
    "from statsmodels.formula.api import ols\n",
    "\n",
    "model = ols('Ni_ppm ~ lithology', data=df_subset)\n",
    "fitted_model = model.fit()\n",
    "fitted_model.summary()"
   ]
  },
  {
   "cell_type": "markdown",
   "id": "cf2f0915",
   "metadata": {},
   "source": [
    "## Geospatial Analysis"
   ]
  },
  {
   "cell_type": "code",
   "execution_count": 1,
   "id": "a7cf6155",
   "metadata": {},
   "outputs": [],
   "source": [
    "import geopandas as gpd"
   ]
  },
  {
   "cell_type": "markdown",
   "id": "d490c9cf",
   "metadata": {},
   "source": [
    "Is the following necessary to do analysis? Do we need to convert NA values to zero?"
   ]
  },
  {
   "cell_type": "code",
   "execution_count": 3,
   "id": "0b3abc0e",
   "metadata": {},
   "outputs": [
    {
     "ename": "ModuleNotFoundError",
     "evalue": "No module named 'rasterio'",
     "output_type": "error",
     "traceback": [
      "\u001b[1;31m---------------------------------------------------------------------------\u001b[0m",
      "\u001b[1;31mModuleNotFoundError\u001b[0m                       Traceback (most recent call last)",
      "\u001b[1;32mC:\\Users\\ALEXVA~1\\AppData\\Local\\Temp/ipykernel_23064/1380003273.py\u001b[0m in \u001b[0;36m<module>\u001b[1;34m\u001b[0m\n\u001b[1;32m----> 1\u001b[1;33m \u001b[1;32mimport\u001b[0m \u001b[0mrasterio\u001b[0m\u001b[1;33m\u001b[0m\u001b[1;33m\u001b[0m\u001b[0m\n\u001b[0m",
      "\u001b[1;31mModuleNotFoundError\u001b[0m: No module named 'rasterio'"
     ]
    }
   ],
   "source": [
    "import rasterio"
   ]
  }
 ],
 "metadata": {
  "kernelspec": {
   "display_name": "gee_env",
   "language": "python",
   "name": "myenv"
  },
  "language_info": {
   "codemirror_mode": {
    "name": "ipython",
    "version": 3
   },
   "file_extension": ".py",
   "mimetype": "text/x-python",
   "name": "python",
   "nbconvert_exporter": "python",
   "pygments_lexer": "ipython3",
   "version": "3.9.18"
  }
 },
 "nbformat": 4,
 "nbformat_minor": 5
}
